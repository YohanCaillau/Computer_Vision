{
 "cells": [
  {
   "cell_type": "markdown",
   "metadata": {},
   "source": [
    "# Reading, Writing and Displaying Images"
   ]
  },
  {
   "cell_type": "code",
   "execution_count": null,
   "metadata": {},
   "outputs": [],
   "source": [
    "#import the libraries\n",
    "import numpy as np\n",
    "import matplotlib.pyplot as plt\n",
    "import cv2\n",
    "%matplotlib inline\n",
    "\n",
    "#reading the image \n",
    "\n",
    "cat = cv2.imread('index.png')\n",
    "cat = cv2.cvtColor(image,cv2.COLOR_BGR2RGB)\n",
    "#plotting the image\n",
    "plt.imshow(image)\n",
    "\n",
    "#saving image\n",
    "cv2.imwrite('test_write.jpg',image)"
   ]
  },
  {
   "cell_type": "markdown",
   "metadata": {},
   "source": [
    "# Changing Color Spaces"
   ]
  },
  {
   "cell_type": "code",
   "execution_count": null,
   "metadata": {},
   "outputs": [],
   "source": [
    "#converting image to Gray scale \n",
    "gray_image = cv2.cvtColor(image,cv2.COLOR_BGR2GRAY)\n",
    "#plotting the grayscale image\n",
    "plt.imshow(gray_image) "
   ]
  },
  {
   "cell_type": "code",
   "execution_count": null,
   "metadata": {},
   "outputs": [],
   "source": [
    "#converting image to HSV format\n",
    "hsv_image = cv2.cvtColor(image,cv2.COLOR_BGR2HSV)\n",
    "#plotting the HSV image\n",
    "plt.imshow(hsv_image)"
   ]
  },
  {
   "cell_type": "markdown",
   "metadata": {},
   "source": [
    "# Resizing Images"
   ]
  },
  {
   "cell_type": "code",
   "execution_count": null,
   "metadata": {},
   "outputs": [],
   "source": [
    "#converting image to size (100,100,3) \n",
    "smaller_image = cv2.resize(image,(100,100),interpolation = cv2.INTER_LINEAR) \n",
    "#plot the resized image\n",
    "plt.imshow(smaller_image)"
   ]
  },
  {
   "cell_type": "markdown",
   "metadata": {},
   "source": [
    "# Image Rotation"
   ]
  },
  {
   "cell_type": "code",
   "execution_count": null,
   "metadata": {},
   "outputs": [],
   "source": [
    "rows,cols = image.shape[:2] \n",
    "#(col/2,rows/2) is the center of rotation for the image \n",
    "# M is the cordinates of the center \n",
    "M = cv2.getRotationMatrix2D((cols/2,rows/2),90,1) \n",
    "dst = cv2.warpAffine(image,M,(cols,rows)) \n",
    "plt.imshow(dst)"
   ]
  },
  {
   "cell_type": "markdown",
   "metadata": {},
   "source": [
    "# Image Translation"
   ]
  },
  {
   "cell_type": "code",
   "execution_count": null,
   "metadata": {},
   "outputs": [],
   "source": [
    "#shifting the image 100 pixels in both dimensions\n",
    "M = np.float32([[1,0,-100],[0,1,-100]]) \n",
    "dst = cv2.warpAffine(image,M,(cols,rows)) \n",
    "plt.imshow(dst)"
   ]
  },
  {
   "cell_type": "markdown",
   "metadata": {},
   "source": [
    "# Simple Image Thresholding"
   ]
  },
  {
   "cell_type": "code",
   "execution_count": null,
   "metadata": {},
   "outputs": [],
   "source": [
    "#here 0 means that the image is loaded in gray scale format\n",
    "gray_image = cv2.imread('index.png',0)\n",
    "\n",
    "ret,thresh_binary = cv2.threshold(gray_image,127,255,cv2.THRESH_BINARY)\n",
    "ret,thresh_binary_inv = cv2.threshold(gray_image,127,255,cv2.THRESH_BINARY_INV)\n",
    "ret,thresh_trunc = cv2.threshold(gray_image,127,255,cv2.THRESH_TRUNC)\n",
    "ret,thresh_tozero = cv2.threshold(gray_image,127,255,cv2.THRESH_TOZERO)\n",
    "ret,thresh_tozero_inv = cv2.threshold(gray_image,127,255,cv2.THRESH_TOZERO_INV)\n",
    "\n",
    "#DISPLAYING THE DIFFERENT THRESHOLDING STYLES\n",
    "names = ['Oiriginal Image','BINARY','THRESH_BINARY_INV','THRESH_TRUNC','THRESH_TOZERO','THRESH_TOZERO_INV']\n",
    "images = gray_image,thresh_binary,thresh_binary_inv,thresh_trunc,thresh_tozero,thresh_tozero_inv\n",
    "\n",
    "for i in range(6):\n",
    "    plt.subplot(2,3,i+1),plt.imshow(images[i],'gray')\n",
    "    plt.title(names[i])\n",
    "    plt.xticks([]),plt.yticks([])\n",
    "    \n",
    "plt.show()"
   ]
  },
  {
   "cell_type": "markdown",
   "metadata": {},
   "source": [
    "# Adaptive Thresholding"
   ]
  },
  {
   "cell_type": "code",
   "execution_count": null,
   "metadata": {},
   "outputs": [],
   "source": [
    "ret,thresh_global = cv2.threshold(gray_image,127,255,cv2.THRESH_BINARY)\n",
    "#here 11 is the pixel neighbourhood that is used to calculate the threshold value\n",
    "thresh_mean = cv2.adaptiveThreshold(gray_image,255,cv2.ADAPTIVE_THRESH_MEAN_C,cv2.THRESH_BINARY,11,2)\n",
    "\n",
    "thresh_gaussian = cv2.adaptiveThreshold(gray_image,255,cv2.ADAPTIVE_THRESH_GAUSSIAN_C,cv2.THRESH_BINARY,11,2)\n",
    "\n",
    "names = ['Original Image','Global Thresholding','Adaptive Mean Threshold','Adaptive Gaussian Thresholding']\n",
    "images = [gray_image,thresh_global,thresh_mean,thresh_gaussian]\n",
    "\n",
    "for i in range(4):\n",
    "    plt.subplot(2,2,i+1),plt.imshow(images[i],'gray')\n",
    "    plt.title(names[i])\n",
    "    plt.xticks([]),plt.yticks([])\n",
    "    \n",
    "plt.show()"
   ]
  },
  {
   "cell_type": "markdown",
   "metadata": {},
   "source": [
    "# Image Segmentation (Watershed Algorithm)"
   ]
  },
  {
   "cell_type": "code",
   "execution_count": null,
   "metadata": {},
   "outputs": [],
   "source": [
    "gray = cv2.cvtColor(image,cv2.COLOR_BGR2GRAY)\n",
    "#apply thresholding\n",
    "ret,thresh = cv2.threshold(gray,0,255,cv2.THRESH_BINARY_INV+cv2.THRESH_OTSU)\n",
    "#get a kernel\n",
    "kernel = np.ones((3,3),np.uint8)\n",
    "opening = cv2.morphologyEx(thresh,cv2.MORPH_OPEN,kernel,iterations = 2)\n",
    "#extract the background from image\n",
    "sure_bg = cv2.dilate(opening,kernel,iterations = 3)\n",
    "\n",
    "dist_transform = cv2.distanceTransform(opening,cv2.DIST_L2,5)\n",
    "ret,sure_fg = cv2.threshold(dist_transform,0.7*dist_transform.max(),255,0)\n",
    "\n",
    "sure_fg = np.uint8(sure_fg)\n",
    "unknown = cv2.subtract(sure_bg,sure_bg)\n",
    "\n",
    "ret,markers = cv2.connectedComponents(sure_fg)\n",
    "\n",
    "markers = markers+1\n",
    "\n",
    "markers[unknown==255] = 0\n",
    "\n",
    "markers = cv2.watershed(image,markers)\n",
    "image[markers==-1] = [255,0,0]\n",
    "\n",
    "plt.imshow(sure_fg)\n"
   ]
  },
  {
   "cell_type": "markdown",
   "metadata": {},
   "source": [
    "# Bitwise Operations"
   ]
  },
  {
   "cell_type": "code",
   "execution_count": null,
   "metadata": {},
   "outputs": [],
   "source": [
    "#apply thresholdin \n",
    "ret,mask = cv2.threshold(sure_fg,0,255,cv2.THRESH_BINARY_INV+cv2.THRESH_OTSU) \n",
    "#apply AND operation on image and mask generated by thrresholding\n",
    "final = cv2.bitwise_and(image,image,mask = mask) \n",
    "#plot the result\n",
    "plt.imshow(final)"
   ]
  },
  {
   "cell_type": "markdown",
   "metadata": {},
   "source": [
    "# Edge Detection"
   ]
  },
  {
   "cell_type": "code",
   "execution_count": null,
   "metadata": {},
   "outputs": [],
   "source": [
    "#calculate the edges using Canny edge algorithm\n",
    "edges = cv2.Canny(image,100,200) \n",
    "#plot the edges\n",
    "plt.imshow(edges)"
   ]
  },
  {
   "cell_type": "markdown",
   "metadata": {},
   "source": [
    "# Image Filtering"
   ]
  },
  {
   "cell_type": "code",
   "execution_count": null,
   "metadata": {},
   "outputs": [],
   "source": [
    "#using the averaging kernel for image smoothening \n",
    "averaging_kernel = np.ones((3,3),np.float32)/9 \n",
    "filtered_image = cv2.filter2D(image,-1,kernel) \n",
    "plt.imshow(dst) \n",
    "#get a one dimensional Gaussian Kernel \n",
    "gaussian_kernel_x = cv2.getGaussianKernel(5,1) \n",
    "gaussian_kernel_y = cv2.getGaussianKernel(5,1) \n",
    "#converting to two dimensional kernel using matrix multiplication \n",
    "gaussian_kernel = gaussian_kernel_x * gaussian_kernel_y.T \n",
    "#you can also use cv2.GaussianBLurring(image,(shape of kernel),standard deviation) instead of cv2.filter2D \n",
    "filtered_image = cv2.filter2D(image,-1,gaussian_kernel) \n",
    "plt.imshow(filtered_image)"
   ]
  },
  {
   "cell_type": "markdown",
   "metadata": {},
   "source": [
    "# Image Contours"
   ]
  },
  {
   "cell_type": "code",
   "execution_count": null,
   "metadata": {},
   "outputs": [],
   "source": [
    "#converting RGB image to Binary \n",
    "gray_image = cv2.cvtColor(image,cv2.COLOR_BGR2GRAY) \n",
    "ret,thresh = cv2.threshold(gray_image,127,255,0) \n",
    "#calculate the contours from binary image\n",
    "im,contours,hierarchy = cv2.findContours(thresh,cv2.RETR_TREE,cv2.CHAIN_APPROX_SIMPLE) \n",
    "with_contours = cv2.drawContours(image,contours,-1,(0,255,0),3) \n",
    "plt.imshow(with_contours)"
   ]
  },
  {
   "cell_type": "markdown",
   "metadata": {},
   "source": [
    "# Scale Invariant Feature Transform (SIFT)"
   ]
  },
  {
   "cell_type": "code",
   "execution_count": null,
   "metadata": {},
   "outputs": [],
   "source": [
    "gray = cv2.cvtColor(image,cv2.COLOR_BGR2GRAY)\n",
    "#create sift object\n",
    "sift  = cv2.xfeatures2d.SIFT_create()\n",
    "#calculate keypoints and their orientation\n",
    "keypoints,descriptors = sift.detectAndCompute(gray,None)\n",
    "#plot keypoints on the image\n",
    "with_keypoints = cv2.drawKeypoints(gray,keypoints)\n",
    "#plot the image\n",
    "plt.imshow(with_keypoints)"
   ]
  },
  {
   "cell_type": "code",
   "execution_count": null,
   "metadata": {},
   "outputs": [],
   "source": []
  }
 ],
 "metadata": {
  "kernelspec": {
   "display_name": "Python 3",
   "language": "python",
   "name": "python3"
  },
  "language_info": {
   "codemirror_mode": {
    "name": "ipython",
    "version": 3
   },
   "file_extension": ".py",
   "mimetype": "text/x-python",
   "name": "python",
   "nbconvert_exporter": "python",
   "pygments_lexer": "ipython3",
   "version": "3.7.3"
  }
 },
 "nbformat": 4,
 "nbformat_minor": 2
}
