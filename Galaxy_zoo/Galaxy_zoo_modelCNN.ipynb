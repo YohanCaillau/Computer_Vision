{
 "cells": [
  {
   "cell_type": "code",
   "execution_count": 1,
   "metadata": {
    "ExecuteTime": {
     "end_time": "2020-01-09T11:14:39.267849Z",
     "start_time": "2020-01-09T11:14:29.483209Z"
    }
   },
   "outputs": [
    {
     "data": {
      "text/plain": [
       "((49262, 4), (12316, 4))"
      ]
     },
     "execution_count": 1,
     "metadata": {},
     "output_type": "execute_result"
    }
   ],
   "source": [
    "import numpy as np\n",
    "import pandas as pd\n",
    "from sklearn.model_selection import train_test_split\n",
    "\n",
    "df = pd.read_csv('class1_df.csv')\n",
    "\n",
    "df_train, df_val = train_test_split(df, test_size=.2)\n",
    "df_train.shape, df_val.shape"
   ]
  },
  {
   "cell_type": "code",
   "execution_count": 2,
   "metadata": {
    "ExecuteTime": {
     "end_time": "2020-01-09T11:37:55.890303Z",
     "start_time": "2020-01-09T11:14:42.188502Z"
    }
   },
   "outputs": [
    {
     "name": "stderr",
     "output_type": "stream",
     "text": [
      "100%|██████████| 49262/49262 [18:09<00:00, 45.20it/s]\n",
      "100%|██████████| 12316/12316 [04:27<00:00, 46.02it/s]\n"
     ]
    }
   ],
   "source": [
    "from skimage.transform import resize\n",
    "from tqdm import tqdm\n",
    "import matplotlib.pyplot as plt\n",
    "%matplotlib inline\n",
    "          \n",
    "\n",
    "ORIG_SHAPE = (424,424)\n",
    "CROP_SIZE = (256,256)\n",
    "IMG_SHAPE = (64,64)\n",
    "\n",
    "def get_image(path, x1,y1, shape, crop_size):\n",
    "    x = plt.imread(path)\n",
    "    x = x[x1:x1+crop_size[0], y1:y1+crop_size[1]]\n",
    "    x = resize(x, shape)\n",
    "    x = x/255.\n",
    "    return x\n",
    "    \n",
    "def get_all_images(dataframe, shape=IMG_SHAPE, crop_size=CROP_SIZE):\n",
    "    x1 = (ORIG_SHAPE[0]-CROP_SIZE[0])//2\n",
    "    y1 = (ORIG_SHAPE[1]-CROP_SIZE[1])//2\n",
    "   \n",
    "    sel = dataframe.values\n",
    "    ids = sel[:,0].astype(int).astype(str)\n",
    "    y_batch = sel[:,1:]\n",
    "    x_batch = []\n",
    "    for i in tqdm(ids):\n",
    "        x = get_image('./galaxy-zoo-data/images_training_rev1/'+i+'.jpg', x1,y1, shape=shape, crop_size=crop_size)\n",
    "        x_batch.append(x)\n",
    "    x_batch = np.array(x_batch)\n",
    "    return x_batch, y_batch\n",
    "        \n",
    "X_train, y_train = get_all_images(df_train)\n",
    "X_val, y_val = get_all_images(df_val)"
   ]
  },
  {
   "cell_type": "code",
   "execution_count": 3,
   "metadata": {
    "ExecuteTime": {
     "end_time": "2020-01-09T11:49:23.427366Z",
     "start_time": "2020-01-09T11:49:23.416372Z"
    }
   },
   "outputs": [],
   "source": [
    "#for i in range(3):\n",
    "    #x = 110\n",
    "    #y = 110\n",
    "    #h = 25\n",
    "    #w = 25\n",
    "    #crop_img = original[x-h:x+h,y-w:y+w]\n",
    "    #cv2.imshow(\"cropped\", crop_img)\n",
    "    #cv2.waitKey(0)\n",
    "    #cv2.destroyAllWindows()"
   ]
  },
  {
   "cell_type": "code",
   "execution_count": 4,
   "metadata": {
    "ExecuteTime": {
     "end_time": "2020-01-09T11:49:24.901718Z",
     "start_time": "2020-01-09T11:49:24.267694Z"
    }
   },
   "outputs": [
    {
     "data": {
      "text/plain": [
       "<matplotlib.colorbar.Colorbar at 0x2c3798d6348>"
      ]
     },
     "execution_count": 4,
     "metadata": {},
     "output_type": "execute_result"
    },
    {
     "data": {
      "image/png": "[encoded data removed]",
      "text/plain": [
       "<Figure size 432x288 with 2 Axes>"
      ]
     },
     "metadata": {
      "needs_background": "light"
     },
     "output_type": "display_data"
    }
   ],
   "source": [
    "plt.pcolormesh(X_train[49261,:,:,0])\n",
    "plt.colorbar()"
   ]
  },
  {
   "cell_type": "code",
   "execution_count": 5,
   "metadata": {
    "ExecuteTime": {
     "end_time": "2020-01-09T11:49:25.559428Z",
     "start_time": "2020-01-09T11:49:25.540403Z"
    }
   },
   "outputs": [
    {
     "data": {
      "text/plain": [
       "array([[4.99807766e-05, 9.99615532e-05, 6.53594771e-05, ...,\n",
       "        1.42252980e-04, 1.46097655e-04, 8.45828527e-05],\n",
       "       [2.30680507e-05, 3.07574010e-05, 5.76701269e-05, ...,\n",
       "        8.45828527e-05, 9.99615532e-05, 9.99615532e-05],\n",
       "       [1.53787005e-05, 0.00000000e+00, 2.30680507e-05, ...,\n",
       "        7.68935025e-05, 5.38254517e-05, 1.15340254e-04],\n",
       "       ...,\n",
       "       [9.22722030e-05, 3.07574010e-05, 1.53787005e-05, ...,\n",
       "        3.46020761e-05, 3.46020761e-05, 4.99807766e-05],\n",
       "       [4.99807766e-05, 1.15340254e-05, 2.69127259e-05, ...,\n",
       "        2.30680507e-05, 0.00000000e+00, 6.92041522e-05],\n",
       "       [4.61361015e-05, 4.22914264e-05, 3.07574010e-05, ...,\n",
       "        1.15340254e-04, 6.15148020e-05, 3.84467512e-05]])"
      ]
     },
     "execution_count": 5,
     "metadata": {},
     "output_type": "execute_result"
    }
   ],
   "source": [
    "X_train[1, :, :, 0]"
   ]
  },
  {
   "cell_type": "code",
   "execution_count": 6,
   "metadata": {
    "ExecuteTime": {
     "end_time": "2020-01-09T11:49:26.324436Z",
     "start_time": "2020-01-09T11:49:26.314411Z"
    }
   },
   "outputs": [
    {
     "data": {
      "text/plain": [
       "((49262, 64, 64, 3), (49262, 3))"
      ]
     },
     "execution_count": 6,
     "metadata": {},
     "output_type": "execute_result"
    }
   ],
   "source": [
    "X_train.shape, y_train.shape"
   ]
  },
  {
   "cell_type": "code",
   "execution_count": 7,
   "metadata": {
    "ExecuteTime": {
     "end_time": "2020-01-09T11:49:26.959422Z",
     "start_time": "2020-01-09T11:49:26.948437Z"
    }
   },
   "outputs": [
    {
     "data": {
      "text/plain": [
       "(12316, 3)"
      ]
     },
     "execution_count": 7,
     "metadata": {},
     "output_type": "execute_result"
    }
   ],
   "source": [
    "y_val.shape"
   ]
  },
  {
   "cell_type": "markdown",
   "metadata": {},
   "source": [
    "Tutorial CNN : https://victorzhou.com/blog/keras-cnn-tutorial/"
   ]
  },
  {
   "cell_type": "code",
   "execution_count": 28,
   "metadata": {
    "ExecuteTime": {
     "end_time": "2020-01-09T14:42:12.766090Z",
     "start_time": "2020-01-09T14:42:12.760089Z"
    },
    "scrolled": true
   },
   "outputs": [],
   "source": [
    "# Normalize the images.\n",
    "#train_images = (X_train / 255) - 0.5\n",
    "#val_images = (X_val / 255) - 0.5\n",
    "\n",
    "#print(train_images.shape) \n",
    "#print(val_images.shape)  "
   ]
  },
  {
   "cell_type": "code",
   "execution_count": 20,
   "metadata": {
    "ExecuteTime": {
     "end_time": "2020-01-09T11:52:53.561870Z",
     "start_time": "2020-01-09T11:52:53.418849Z"
    }
   },
   "outputs": [],
   "source": [
    "# ignore Warning\n",
    "import warnings\n",
    "warnings.filterwarnings(\"ignore\")\n",
    "\n",
    "from keras.models import Sequential\n",
    "from keras.layers import Activation, Dropout, Flatten, Dense, BatchNormalization, GlobalMaxPooling2D, Conv2D, MaxPooling2D\n",
    "import tensorflow as tf\n",
    "from keras.models import Sequential\n",
    "from keras.layers import Activation, Dropout, Flatten, Dense, BatchNormalization, GlobalMaxPooling2D, Conv2D, MaxPooling2D\n",
    "from keras.applications import MobileNet\n",
    "from keras.callbacks import EarlyStopping\n",
    "\n",
    "callbacks = [EarlyStopping(monitor='val_accuracy', patience=10)]\n",
    "\n",
    "seed = 7\n",
    "np.random.seed(seed)\n",
    "tf.set_random_seed(seed)\n",
    "#tf.random.set_seed(seed)\n",
    "\n",
    "model = Sequential()\n",
    "model.add(Conv2D(filters=8, kernel_size=(3,3),input_shape=(64,64,3),activation='relu'))\n",
    "model.add(MaxPooling2D(pool_size=(2,2)))\n",
    "model.add(Conv2D(filters=8, kernel_size=(3,3),activation='relu')) #82% avec 16\n",
    "model.add(MaxPooling2D(pool_size=(2,2)))\n",
    "#model.add(Dropout(0.5))\n",
    "#model.add(MaxPooling2D(pool_size=(4,4)))\n",
    "#model.add(Dense(128, activation='relu'))\n",
    "model.add(Flatten())\n",
    "model.add(Dense(3, activation='softmax'))\n",
    "\n",
    "  #Conv2D(num_filters, filter_size, input_shape=(64, 64, 3)),\n",
    "  #MaxPooling2D(pool_size=pool_size),\n",
    "  #Flatten(),\n",
    "  #Dense(3, activation='sigmoid'),\n",
    "#])\n",
    "\n"
   ]
  },
  {
   "cell_type": "code",
   "execution_count": 21,
   "metadata": {
    "ExecuteTime": {
     "end_time": "2020-01-09T11:52:54.323555Z",
     "start_time": "2020-01-09T11:52:54.225528Z"
    }
   },
   "outputs": [],
   "source": [
    "import keras\n",
    "# Set Optimizer\n",
    "#opt = adam(lr=0.001)\n",
    "model.compile(\n",
    "  loss='categorical_crossentropy',\n",
    "  optimizer=keras.optimizers.Adamax(),\n",
    "  metrics=['accuracy'],\n",
    ")"
   ]
  },
  {
   "cell_type": "code",
   "execution_count": 22,
   "metadata": {
    "ExecuteTime": {
     "end_time": "2020-01-09T14:34:54.515523Z",
     "start_time": "2020-01-09T11:52:54.811593Z"
    },
    "scrolled": true
   },
   "outputs": [
    {
     "name": "stdout",
     "output_type": "stream",
     "text": [
      "WARNING:tensorflow:From C:\\Users\\utilisateur\\Anaconda3\\envs\\computer_vision\\lib\\site-packages\\tensorflow_core\\python\\ops\\math_grad.py:1424: where (from tensorflow.python.ops.array_ops) is deprecated and will be removed in a future version.\n",
      "Instructions for updating:\n",
      "Use tf.where in 2.0, which has the same broadcast rule as np.where\n",
      "WARNING:tensorflow:From C:\\Users\\utilisateur\\Anaconda3\\envs\\computer_vision\\lib\\site-packages\\keras\\backend\\tensorflow_backend.py:986: The name tf.assign_add is deprecated. Please use tf.compat.v1.assign_add instead.\n",
      "\n",
      "WARNING:tensorflow:From C:\\Users\\utilisateur\\Anaconda3\\envs\\computer_vision\\lib\\site-packages\\keras\\backend\\tensorflow_backend.py:973: The name tf.assign is deprecated. Please use tf.compat.v1.assign instead.\n",
      "\n",
      "WARNING:tensorflow:From C:\\Users\\utilisateur\\Anaconda3\\envs\\computer_vision\\lib\\site-packages\\keras\\backend\\tensorflow_backend.py:2741: The name tf.Session is deprecated. Please use tf.compat.v1.Session instead.\n",
      "\n",
      "Train on 49262 samples, validate on 12316 samples\n",
      "Epoch 1/100\n",
      "WARNING:tensorflow:From C:\\Users\\utilisateur\\Anaconda3\\envs\\computer_vision\\lib\\site-packages\\keras\\backend\\tensorflow_backend.py:174: The name tf.get_default_session is deprecated. Please use tf.compat.v1.get_default_session instead.\n",
      "\n",
      "WARNING:tensorflow:From C:\\Users\\utilisateur\\Anaconda3\\envs\\computer_vision\\lib\\site-packages\\keras\\backend\\tensorflow_backend.py:181: The name tf.ConfigProto is deprecated. Please use tf.compat.v1.ConfigProto instead.\n",
      "\n",
      "WARNING:tensorflow:From C:\\Users\\utilisateur\\Anaconda3\\envs\\computer_vision\\lib\\site-packages\\keras\\backend\\tensorflow_backend.py:190: The name tf.global_variables is deprecated. Please use tf.compat.v1.global_variables instead.\n",
      "\n",
      "WARNING:tensorflow:From C:\\Users\\utilisateur\\Anaconda3\\envs\\computer_vision\\lib\\site-packages\\keras\\backend\\tensorflow_backend.py:199: The name tf.is_variable_initialized is deprecated. Please use tf.compat.v1.is_variable_initialized instead.\n",
      "\n",
      "WARNING:tensorflow:From C:\\Users\\utilisateur\\Anaconda3\\envs\\computer_vision\\lib\\site-packages\\keras\\backend\\tensorflow_backend.py:206: The name tf.variables_initializer is deprecated. Please use tf.compat.v1.variables_initializer instead.\n",
      "\n",
      "49262/49262 [==============================] - 105s 2ms/step - loss: 0.7910 - acc: 0.5639 - val_loss: 0.7853 - val_acc: 0.5672\n",
      "Epoch 2/100\n",
      "49262/49262 [==============================] - 99s 2ms/step - loss: 0.7790 - acc: 0.6055 - val_loss: 0.7759 - val_acc: 0.6127\n",
      "Epoch 3/100\n",
      "49262/49262 [==============================] - 98s 2ms/step - loss: 0.7657 - acc: 0.6517 - val_loss: 0.7591 - val_acc: 0.6824\n",
      "Epoch 4/100\n",
      "49262/49262 [==============================] - 100s 2ms/step - loss: 0.7557 - acc: 0.6776 - val_loss: 0.7569 - val_acc: 0.6860\n",
      "Epoch 5/100\n",
      "49262/49262 [==============================] - 100s 2ms/step - loss: 0.7458 - acc: 0.7015 - val_loss: 0.7408 - val_acc: 0.7220\n",
      "Epoch 6/100\n",
      "49262/49262 [==============================] - 96s 2ms/step - loss: 0.7383 - acc: 0.7198 - val_loss: 0.7343 - val_acc: 0.7384\n",
      "Epoch 7/100\n",
      "49262/49262 [==============================] - 97s 2ms/step - loss: 0.7309 - acc: 0.7338 - val_loss: 0.7327 - val_acc: 0.7260\n",
      "Epoch 8/100\n",
      "49262/49262 [==============================] - 96s 2ms/step - loss: 0.7246 - acc: 0.7461 - val_loss: 0.7196 - val_acc: 0.7584\n",
      "Epoch 9/100\n",
      "49262/49262 [==============================] - 97s 2ms/step - loss: 0.7183 - acc: 0.7574 - val_loss: 0.7117 - val_acc: 0.7681\n",
      "Epoch 10/100\n",
      "49262/49262 [==============================] - 96s 2ms/step - loss: 0.7119 - acc: 0.7654 - val_loss: 0.7055 - val_acc: 0.7780\n",
      "Epoch 11/100\n",
      "49262/49262 [==============================] - 95s 2ms/step - loss: 0.7068 - acc: 0.7737 - val_loss: 0.7008 - val_acc: 0.7853\n",
      "Epoch 12/100\n",
      "49262/49262 [==============================] - 95s 2ms/step - loss: 0.7044 - acc: 0.7755 - val_loss: 0.7049 - val_acc: 0.7776\n",
      "Epoch 13/100\n",
      "49262/49262 [==============================] - 96s 2ms/step - loss: 0.7022 - acc: 0.7789 - val_loss: 0.7015 - val_acc: 0.7757\n",
      "Epoch 14/100\n",
      "49262/49262 [==============================] - 96s 2ms/step - loss: 0.7014 - acc: 0.7810 - val_loss: 0.6975 - val_acc: 0.7892\n",
      "Epoch 15/100\n",
      "49262/49262 [==============================] - 95s 2ms/step - loss: 0.7007 - acc: 0.7818 - val_loss: 0.7021 - val_acc: 0.7796\n",
      "Epoch 16/100\n",
      "49262/49262 [==============================] - 96s 2ms/step - loss: 0.6996 - acc: 0.7828 - val_loss: 0.6958 - val_acc: 0.7973\n",
      "Epoch 17/100\n",
      "49262/49262 [==============================] - 96s 2ms/step - loss: 0.6987 - acc: 0.7833 - val_loss: 0.6953 - val_acc: 0.7921\n",
      "Epoch 18/100\n",
      "49262/49262 [==============================] - 96s 2ms/step - loss: 0.6979 - acc: 0.7855 - val_loss: 0.6965 - val_acc: 0.7843\n",
      "Epoch 19/100\n",
      "49262/49262 [==============================] - 96s 2ms/step - loss: 0.6973 - acc: 0.7851 - val_loss: 0.6942 - val_acc: 0.7912\n",
      "Epoch 20/100\n",
      "49262/49262 [==============================] - 96s 2ms/step - loss: 0.6964 - acc: 0.7881 - val_loss: 0.6992 - val_acc: 0.7835\n",
      "Epoch 21/100\n",
      "49262/49262 [==============================] - 96s 2ms/step - loss: 0.6963 - acc: 0.7868 - val_loss: 0.6924 - val_acc: 0.7945\n",
      "Epoch 22/100\n",
      "49262/49262 [==============================] - 96s 2ms/step - loss: 0.6955 - acc: 0.7870 - val_loss: 0.6932 - val_acc: 0.7951\n",
      "Epoch 23/100\n",
      "49262/49262 [==============================] - 96s 2ms/step - loss: 0.6947 - acc: 0.7900 - val_loss: 0.6911 - val_acc: 0.7926\n",
      "Epoch 24/100\n",
      "49262/49262 [==============================] - 96s 2ms/step - loss: 0.6941 - acc: 0.7898 - val_loss: 0.6937 - val_acc: 0.7939\n",
      "Epoch 25/100\n",
      "49262/49262 [==============================] - 97s 2ms/step - loss: 0.6939 - acc: 0.7901 - val_loss: 0.6911 - val_acc: 0.7985\n",
      "Epoch 26/100\n",
      "49262/49262 [==============================] - 96s 2ms/step - loss: 0.6932 - acc: 0.7902 - val_loss: 0.6889 - val_acc: 0.8009\n",
      "Epoch 27/100\n",
      "49262/49262 [==============================] - 96s 2ms/step - loss: 0.6923 - acc: 0.7911 - val_loss: 0.6906 - val_acc: 0.7947\n",
      "Epoch 28/100\n",
      "49262/49262 [==============================] - 99s 2ms/step - loss: 0.6923 - acc: 0.7912 - val_loss: 0.6880 - val_acc: 0.7994\n",
      "Epoch 29/100\n",
      "49262/49262 [==============================] - 97s 2ms/step - loss: 0.6916 - acc: 0.7935 - val_loss: 0.6888 - val_acc: 0.7986\n",
      "Epoch 30/100\n",
      "49262/49262 [==============================] - 97s 2ms/step - loss: 0.6916 - acc: 0.7920 - val_loss: 0.6951 - val_acc: 0.7867\n",
      "Epoch 31/100\n",
      "49262/49262 [==============================] - 99s 2ms/step - loss: 0.6907 - acc: 0.7939 - val_loss: 0.6869 - val_acc: 0.8020\n",
      "Epoch 32/100\n",
      "49262/49262 [==============================] - 99s 2ms/step - loss: 0.6905 - acc: 0.7923 - val_loss: 0.6940 - val_acc: 0.7891\n",
      "Epoch 33/100\n",
      "49262/49262 [==============================] - 98s 2ms/step - loss: 0.6895 - acc: 0.7946 - val_loss: 0.6882 - val_acc: 0.8012\n",
      "Epoch 34/100\n",
      "49262/49262 [==============================] - 97s 2ms/step - loss: 0.6900 - acc: 0.7940 - val_loss: 0.6864 - val_acc: 0.8020\n",
      "Epoch 35/100\n",
      "49262/49262 [==============================] - 98s 2ms/step - loss: 0.6892 - acc: 0.7944 - val_loss: 0.6857 - val_acc: 0.8053\n",
      "Epoch 36/100\n",
      "49262/49262 [==============================] - 99s 2ms/step - loss: 0.6889 - acc: 0.7943 - val_loss: 0.6869 - val_acc: 0.8019\n",
      "Epoch 37/100\n",
      "49262/49262 [==============================] - 98s 2ms/step - loss: 0.6883 - acc: 0.7953 - val_loss: 0.6867 - val_acc: 0.7994\n",
      "Epoch 38/100\n",
      "49262/49262 [==============================] - 98s 2ms/step - loss: 0.6878 - acc: 0.7952 - val_loss: 0.6928 - val_acc: 0.7938\n",
      "Epoch 39/100\n",
      "49262/49262 [==============================] - 97s 2ms/step - loss: 0.6878 - acc: 0.7968 - val_loss: 0.6850 - val_acc: 0.8029\n",
      "Epoch 40/100\n",
      "49262/49262 [==============================] - 98s 2ms/step - loss: 0.6874 - acc: 0.7970 - val_loss: 0.6851 - val_acc: 0.8067\n",
      "Epoch 41/100\n",
      "49262/49262 [==============================] - 98s 2ms/step - loss: 0.6865 - acc: 0.7958 - val_loss: 0.6833 - val_acc: 0.8072\n",
      "Epoch 42/100\n",
      "49262/49262 [==============================] - 99s 2ms/step - loss: 0.6858 - acc: 0.7970 - val_loss: 0.6821 - val_acc: 0.8075\n",
      "Epoch 43/100\n",
      "49262/49262 [==============================] - 100s 2ms/step - loss: 0.6853 - acc: 0.7981 - val_loss: 0.6826 - val_acc: 0.8107\n",
      "Epoch 44/100\n"
     ]
    },
    {
     "name": "stdout",
     "output_type": "stream",
     "text": [
      "49262/49262 [==============================] - 99s 2ms/step - loss: 0.6850 - acc: 0.7982 - val_loss: 0.6847 - val_acc: 0.8026\n",
      "Epoch 45/100\n",
      "49262/49262 [==============================] - 97s 2ms/step - loss: 0.6843 - acc: 0.7995 - val_loss: 0.6809 - val_acc: 0.8100\n",
      "Epoch 46/100\n",
      "49262/49262 [==============================] - 96s 2ms/step - loss: 0.6840 - acc: 0.8000 - val_loss: 0.6828 - val_acc: 0.8063\n",
      "Epoch 47/100\n",
      "49262/49262 [==============================] - 97s 2ms/step - loss: 0.6836 - acc: 0.7987 - val_loss: 0.6806 - val_acc: 0.8098\n",
      "Epoch 48/100\n",
      "49262/49262 [==============================] - 97s 2ms/step - loss: 0.6833 - acc: 0.7993 - val_loss: 0.6818 - val_acc: 0.8123\n",
      "Epoch 49/100\n",
      "49262/49262 [==============================] - 98s 2ms/step - loss: 0.6828 - acc: 0.7999 - val_loss: 0.6812 - val_acc: 0.8097\n",
      "Epoch 50/100\n",
      "49262/49262 [==============================] - 97s 2ms/step - loss: 0.6828 - acc: 0.8013 - val_loss: 0.6848 - val_acc: 0.8058\n",
      "Epoch 51/100\n",
      "49262/49262 [==============================] - 98s 2ms/step - loss: 0.6825 - acc: 0.8014 - val_loss: 0.6797 - val_acc: 0.8145\n",
      "Epoch 52/100\n",
      "49262/49262 [==============================] - 100s 2ms/step - loss: 0.6818 - acc: 0.8033 - val_loss: 0.6810 - val_acc: 0.8105\n",
      "Epoch 53/100\n",
      "49262/49262 [==============================] - 100s 2ms/step - loss: 0.6814 - acc: 0.8026 - val_loss: 0.6800 - val_acc: 0.8114\n",
      "Epoch 54/100\n",
      "49262/49262 [==============================] - 98s 2ms/step - loss: 0.6813 - acc: 0.8032 - val_loss: 0.6802 - val_acc: 0.8101\n",
      "Epoch 55/100\n",
      "49262/49262 [==============================] - 97s 2ms/step - loss: 0.6805 - acc: 0.8039 - val_loss: 0.6816 - val_acc: 0.8133\n",
      "Epoch 56/100\n",
      "49262/49262 [==============================] - 98s 2ms/step - loss: 0.6804 - acc: 0.8042 - val_loss: 0.6778 - val_acc: 0.8171\n",
      "Epoch 57/100\n",
      "49262/49262 [==============================] - 99s 2ms/step - loss: 0.6802 - acc: 0.8043 - val_loss: 0.6813 - val_acc: 0.8111\n",
      "Epoch 58/100\n",
      "49262/49262 [==============================] - 99s 2ms/step - loss: 0.6798 - acc: 0.8050 - val_loss: 0.6811 - val_acc: 0.8080\n",
      "Epoch 59/100\n",
      "49262/49262 [==============================] - 98s 2ms/step - loss: 0.6796 - acc: 0.8057 - val_loss: 0.6775 - val_acc: 0.8155\n",
      "Epoch 60/100\n",
      "49262/49262 [==============================] - 97s 2ms/step - loss: 0.6793 - acc: 0.8059 - val_loss: 0.6771 - val_acc: 0.8166\n",
      "Epoch 61/100\n",
      "49262/49262 [==============================] - 96s 2ms/step - loss: 0.6790 - acc: 0.8065 - val_loss: 0.6801 - val_acc: 0.8112\n",
      "Epoch 62/100\n",
      "49262/49262 [==============================] - 97s 2ms/step - loss: 0.6787 - acc: 0.8069 - val_loss: 0.6775 - val_acc: 0.8183\n",
      "Epoch 63/100\n",
      "49262/49262 [==============================] - 96s 2ms/step - loss: 0.6790 - acc: 0.8051 - val_loss: 0.6795 - val_acc: 0.8150\n",
      "Epoch 64/100\n",
      "49262/49262 [==============================] - 96s 2ms/step - loss: 0.6779 - acc: 0.8075 - val_loss: 0.6772 - val_acc: 0.8173\n",
      "Epoch 65/100\n",
      "49262/49262 [==============================] - 97s 2ms/step - loss: 0.6782 - acc: 0.8074 - val_loss: 0.6767 - val_acc: 0.8189\n",
      "Epoch 66/100\n",
      "49262/49262 [==============================] - 96s 2ms/step - loss: 0.6775 - acc: 0.8081 - val_loss: 0.6763 - val_acc: 0.8189\n",
      "Epoch 67/100\n",
      "49262/49262 [==============================] - 97s 2ms/step - loss: 0.6776 - acc: 0.8081 - val_loss: 0.6764 - val_acc: 0.8191\n",
      "Epoch 68/100\n",
      "49262/49262 [==============================] - 96s 2ms/step - loss: 0.6771 - acc: 0.8080 - val_loss: 0.6799 - val_acc: 0.8128\n",
      "Epoch 69/100\n",
      "49262/49262 [==============================] - 96s 2ms/step - loss: 0.6774 - acc: 0.8084 - val_loss: 0.6771 - val_acc: 0.8186\n",
      "Epoch 70/100\n",
      "49262/49262 [==============================] - 97s 2ms/step - loss: 0.6772 - acc: 0.8074 - val_loss: 0.6755 - val_acc: 0.8218\n",
      "Epoch 71/100\n",
      "49262/49262 [==============================] - 96s 2ms/step - loss: 0.6770 - acc: 0.8089 - val_loss: 0.6773 - val_acc: 0.8187\n",
      "Epoch 72/100\n",
      "49262/49262 [==============================] - 96s 2ms/step - loss: 0.6765 - acc: 0.8090 - val_loss: 0.6760 - val_acc: 0.8175\n",
      "Epoch 73/100\n",
      "49262/49262 [==============================] - 97s 2ms/step - loss: 0.6764 - acc: 0.8096 - val_loss: 0.6775 - val_acc: 0.8161\n",
      "Epoch 74/100\n",
      "49262/49262 [==============================] - 100s 2ms/step - loss: 0.6764 - acc: 0.8101 - val_loss: 0.6985 - val_acc: 0.7719\n",
      "Epoch 75/100\n",
      "49262/49262 [==============================] - 96s 2ms/step - loss: 0.6761 - acc: 0.8097 - val_loss: 0.6803 - val_acc: 0.8089\n",
      "Epoch 76/100\n",
      "49262/49262 [==============================] - 96s 2ms/step - loss: 0.6755 - acc: 0.8104 - val_loss: 0.6740 - val_acc: 0.8221\n",
      "Epoch 77/100\n",
      "49262/49262 [==============================] - 96s 2ms/step - loss: 0.6750 - acc: 0.8118 - val_loss: 0.6764 - val_acc: 0.8133\n",
      "Epoch 78/100\n",
      "49262/49262 [==============================] - 96s 2ms/step - loss: 0.6748 - acc: 0.8114 - val_loss: 0.6738 - val_acc: 0.8215\n",
      "Epoch 79/100\n",
      "49262/49262 [==============================] - 96s 2ms/step - loss: 0.6749 - acc: 0.8104 - val_loss: 0.6752 - val_acc: 0.8180\n",
      "Epoch 80/100\n",
      "49262/49262 [==============================] - 97s 2ms/step - loss: 0.6747 - acc: 0.8128 - val_loss: 0.6752 - val_acc: 0.8170\n",
      "Epoch 81/100\n",
      "49262/49262 [==============================] - 97s 2ms/step - loss: 0.6750 - acc: 0.8104 - val_loss: 0.6732 - val_acc: 0.8223\n",
      "Epoch 82/100\n",
      "49262/49262 [==============================] - 96s 2ms/step - loss: 0.6745 - acc: 0.8120 - val_loss: 0.6746 - val_acc: 0.8184\n",
      "Epoch 83/100\n",
      "49262/49262 [==============================] - 97s 2ms/step - loss: 0.6741 - acc: 0.8116 - val_loss: 0.6751 - val_acc: 0.8197\n",
      "Epoch 84/100\n",
      "49262/49262 [==============================] - 96s 2ms/step - loss: 0.6743 - acc: 0.8117 - val_loss: 0.6733 - val_acc: 0.8235\n",
      "Epoch 85/100\n",
      "49262/49262 [==============================] - 96s 2ms/step - loss: 0.6738 - acc: 0.8133 - val_loss: 0.6730 - val_acc: 0.8219\n",
      "Epoch 86/100\n",
      "49262/49262 [==============================] - 97s 2ms/step - loss: 0.6736 - acc: 0.8136 - val_loss: 0.6789 - val_acc: 0.8104\n",
      "Epoch 87/100\n",
      "49262/49262 [==============================] - 96s 2ms/step - loss: 0.6736 - acc: 0.8128 - val_loss: 0.6726 - val_acc: 0.8223\n",
      "Epoch 88/100\n",
      "49262/49262 [==============================] - 96s 2ms/step - loss: 0.6732 - acc: 0.8137 - val_loss: 0.6721 - val_acc: 0.8241\n",
      "Epoch 89/100\n",
      "49262/49262 [==============================] - 98s 2ms/step - loss: 0.6733 - acc: 0.8133 - val_loss: 0.6770 - val_acc: 0.8174\n",
      "Epoch 90/100\n",
      "49262/49262 [==============================] - 97s 2ms/step - loss: 0.6731 - acc: 0.8126 - val_loss: 0.6734 - val_acc: 0.8211\n",
      "Epoch 91/100\n",
      "49262/49262 [==============================] - 96s 2ms/step - loss: 0.6726 - acc: 0.8145 - val_loss: 0.6755 - val_acc: 0.8199\n",
      "Epoch 92/100\n",
      "49262/49262 [==============================] - 97s 2ms/step - loss: 0.6725 - acc: 0.8146 - val_loss: 0.6719 - val_acc: 0.8246\n",
      "Epoch 93/100\n",
      "49262/49262 [==============================] - 97s 2ms/step - loss: 0.6722 - acc: 0.8126 - val_loss: 0.6708 - val_acc: 0.8249\n",
      "Epoch 94/100\n",
      "49262/49262 [==============================] - 98s 2ms/step - loss: 0.6722 - acc: 0.8150 - val_loss: 0.6710 - val_acc: 0.8255\n",
      "Epoch 95/100\n",
      "49262/49262 [==============================] - 96s 2ms/step - loss: 0.6721 - acc: 0.8157 - val_loss: 0.6742 - val_acc: 0.8189\n",
      "Epoch 96/100\n",
      "49262/49262 [==============================] - 98s 2ms/step - loss: 0.6716 - acc: 0.8150 - val_loss: 0.6709 - val_acc: 0.8249\n",
      "Epoch 97/100\n",
      "49262/49262 [==============================] - 96s 2ms/step - loss: 0.6714 - acc: 0.8149 - val_loss: 0.6710 - val_acc: 0.8266\n",
      "Epoch 98/100\n",
      "49262/49262 [==============================] - 97s 2ms/step - loss: 0.6712 - acc: 0.8156 - val_loss: 0.6701 - val_acc: 0.8262\n",
      "Epoch 99/100\n",
      "49262/49262 [==============================] - 96s 2ms/step - loss: 0.6718 - acc: 0.8161 - val_loss: 0.6727 - val_acc: 0.8209\n",
      "Epoch 100/100\n",
      "49262/49262 [==============================] - 96s 2ms/step - loss: 0.6715 - acc: 0.8159 - val_loss: 0.6723 - val_acc: 0.8226\n"
     ]
    }
   ],
   "source": [
    "# ignore Warning\n",
    "import warnings\n",
    "warnings.filterwarnings(\"ignore\")\n",
    "\n",
    "history = model.fit(\n",
    "  X_train,\n",
    "  y_train,\n",
    "  epochs=100,\n",
    "  validation_data=(X_val, y_val),\n",
    "  batch_size=X_train.shape[1], \n",
    "  callbacks=callbacks\n",
    ")"
   ]
  },
  {
   "cell_type": "code",
   "execution_count": 23,
   "metadata": {
    "ExecuteTime": {
     "end_time": "2020-01-09T14:35:01.353813Z",
     "start_time": "2020-01-09T14:35:01.335801Z"
    }
   },
   "outputs": [
    {
     "name": "stdout",
     "output_type": "stream",
     "text": [
      "_________________________________________________________________\n",
      "Layer (type)                 Output Shape              Param #   \n",
      "=================================================================\n",
      "conv2d_5 (Conv2D)            (None, 62, 62, 8)         224       \n",
      "_________________________________________________________________\n",
      "max_pooling2d_5 (MaxPooling2 (None, 31, 31, 8)         0         \n",
      "_________________________________________________________________\n",
      "conv2d_6 (Conv2D)            (None, 29, 29, 8)         584       \n",
      "_________________________________________________________________\n",
      "max_pooling2d_6 (MaxPooling2 (None, 14, 14, 8)         0         \n",
      "_________________________________________________________________\n",
      "flatten_3 (Flatten)          (None, 1568)              0         \n",
      "_________________________________________________________________\n",
      "dense_3 (Dense)              (None, 3)                 4707      \n",
      "=================================================================\n",
      "Total params: 5,515\n",
      "Trainable params: 5,515\n",
      "Non-trainable params: 0\n",
      "_________________________________________________________________\n"
     ]
    }
   ],
   "source": [
    "model.summary()"
   ]
  },
  {
   "cell_type": "code",
   "execution_count": 25,
   "metadata": {
    "ExecuteTime": {
     "end_time": "2020-01-09T14:35:37.178406Z",
     "start_time": "2020-01-09T14:35:24.556410Z"
    }
   },
   "outputs": [
    {
     "name": "stdout",
     "output_type": "stream",
     "text": [
      "predictions: [[0.5717658 0.4046546 0.0235796]]\n",
      "[[0.548188 0.416942 0.03487 ]]\n"
     ]
    }
   ],
   "source": [
    "# Predict.\n",
    "predictions = model.predict(X_val)\n",
    "# Print our model's predictions.\n",
    "print(\"predictions: \" + str(predictions[:1]))\n",
    "\n",
    "# Check our predictions against the ground truths.\n",
    "print(y_val[:1]) "
   ]
  },
  {
   "cell_type": "code",
   "execution_count": 26,
   "metadata": {
    "ExecuteTime": {
     "end_time": "2020-01-09T14:35:55.053006Z",
     "start_time": "2020-01-09T14:35:42.333983Z"
    }
   },
   "outputs": [
    {
     "name": "stdout",
     "output_type": "stream",
     "text": [
      "Val loss: 0.6723496696127432\n",
      "Val accuracy: 0.8225885028187119\n"
     ]
    }
   ],
   "source": [
    "score = model.evaluate(X_val, y_val, verbose=0)\n",
    "print('Val loss:', score[0])\n",
    "print('Val accuracy:', score[1])"
   ]
  },
  {
   "cell_type": "code",
   "execution_count": 27,
   "metadata": {
    "ExecuteTime": {
     "end_time": "2020-01-09T14:36:04.112659Z",
     "start_time": "2020-01-09T14:36:03.653673Z"
    }
   },
   "outputs": [
    {
     "data": {
      "image/png": "[encoded data removed]",
      "text/plain": [
       "<Figure size 576x360 with 1 Axes>"
      ]
     },
     "metadata": {
      "needs_background": "light"
     },
     "output_type": "display_data"
    }
   ],
   "source": [
    "pd.DataFrame(history.history).plot(figsize=(8, 5))\n",
    "plt.grid(True)\n",
    "plt.title('Model performance throughout training')\n",
    "plt.ylabel('Loss')\n",
    "plt.xlabel('epoch')\n",
    "plt.show()"
   ]
  },
  {
   "cell_type": "markdown",
   "metadata": {},
   "source": [
    "## Score"
   ]
  },
  {
   "cell_type": "markdown",
   "metadata": {},
   "source": [
    "Avec ce modèle:  \n",
    "model = Sequential()  \n",
    "model.add(Conv2D(filters=8, kernel_size=(3,3),input_shape=(64,64,3),activation='relu'))  \n",
    "model.add(MaxPooling2D(pool_size=(2,2)))  \n",
    "model.add(Conv2D(filters=8, kernel_size=(3,3),activation='relu')) #82% avec 16  \n",
    "model.add(MaxPooling2D(pool_size=(2,2)))  \n",
    "model.add(Flatten())  \n",
    "model.add(Dense(3, activation='softmax'))\n",
    "\n",
    "model.compile(\n",
    "  loss='categorical_crossentropy',\n",
    "  optimizer=keras.optimizers.Adamax(),\n",
    "  metrics=['accuracy'],\n",
    ")\n",
    "\n",
    "history = model.fit(\n",
    "  X_train,\n",
    "  y_train,\n",
    "  epochs=100,\n",
    "  validation_data=(X_val, y_val),\n",
    "  batch_size=X_train.shape[1], \n",
    "  callbacks=callbacks\n",
    ")"
   ]
  },
  {
   "cell_type": "markdown",
   "metadata": {},
   "source": [
    "Accuracy = 82,25 %  \n",
    "Prediction/correct value: predictions: [[0.5717658 0.4046546 0.0235796]]/correct_value[[0.548188 0.416942 0.03487 ]]"
   ]
  }
 ],
 "metadata": {
  "kernelspec": {
   "display_name": "Python 3",
   "language": "python",
   "name": "python3"
  },
  "language_info": {
   "codemirror_mode": {
    "name": "ipython",
    "version": 3
   },
   "file_extension": ".py",
   "mimetype": "text/x-python",
   "name": "python",
   "nbconvert_exporter": "python",
   "pygments_lexer": "ipython3",
   "version": "3.7.5"
  }
 },
 "nbformat": 4,
 "nbformat_minor": 2
}
