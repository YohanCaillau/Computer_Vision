{
 "cells": [
  {
   "cell_type": "code",
   "execution_count": 1,
   "metadata": {
    "ExecuteTime": {
     "end_time": "2020-01-13T14:54:03.389496Z",
     "start_time": "2020-01-13T14:54:00.952501Z"
    }
   },
   "outputs": [],
   "source": [
    "import numpy as np\n",
    "import pandas as pd\n",
    "from sklearn.model_selection import train_test_split\n",
    "\n",
    "df = pd.read_csv('class1_df.csv')"
   ]
  },
  {
   "cell_type": "code",
   "execution_count": 2,
   "metadata": {
    "ExecuteTime": {
     "end_time": "2020-01-13T15:05:06.727849Z",
     "start_time": "2020-01-13T14:54:05.193391Z"
    }
   },
   "outputs": [
    {
     "name": "stderr",
     "output_type": "stream",
     "text": [
      "100%|██████████| 61578/61578 [11:01<00:00, 93.12it/s] \n"
     ]
    }
   ],
   "source": [
    "# import the necessary packages\n",
    "import cv2\n",
    "from tqdm import tqdm\n",
    "\n",
    "sel = df.values\n",
    "ids = sel[:,0].astype(int).astype(str)\n",
    "ORIG_SHAPE = (424,424)\n",
    "CROP_SIZE = (256,256)\n",
    "IMG_SHAPE = (64,64)\n",
    "\n",
    "x1 = (ORIG_SHAPE[0]-CROP_SIZE[0])//2\n",
    "y1 = (ORIG_SHAPE[1]-CROP_SIZE[1])//2\n",
    "# load the image and show it\n",
    "for i in tqdm(ids):\n",
    "    image = cv2.imread('./galaxy-zoo-data/images_training_rev1/'+i+'.jpg')\n",
    "   \n",
    "    # crop the image using array slices -- it's a NumPy array\n",
    "    cropped = image[x1:x1+CROP_SIZE[0], y1:y1+CROP_SIZE[1]]\n",
    "\n",
    "    # perform the actual resizing of the image and show it\n",
    "    resized = cv2.resize(image, IMG_SHAPE, interpolation = cv2.INTER_AREA)\n",
    "    \n",
    "    # write the cropped image to disk in PNG format\n",
    "    cv2.imwrite('./images_training_rev1/new_images/'+i+'.jpg', resized)"
   ]
  },
  {
   "cell_type": "code",
   "execution_count": 4,
   "metadata": {
    "ExecuteTime": {
     "end_time": "2020-01-13T15:05:24.048464Z",
     "start_time": "2020-01-13T15:05:24.042464Z"
    }
   },
   "outputs": [],
   "source": [
    "img = cv2.imread('./images_training_rev1/new_images/100008.jpg')"
   ]
  },
  {
   "cell_type": "code",
   "execution_count": 6,
   "metadata": {
    "ExecuteTime": {
     "end_time": "2020-01-13T15:05:42.620942Z",
     "start_time": "2020-01-13T15:05:42.610943Z"
    }
   },
   "outputs": [
    {
     "name": "stdout",
     "output_type": "stream",
     "text": [
      "64 64 3\n"
     ]
    }
   ],
   "source": [
    "height, width, channels = img.shape\n",
    "print(height, width, channels)"
   ]
  }
 ],
 "metadata": {
  "kernelspec": {
   "display_name": "Python 3",
   "language": "python",
   "name": "python3"
  },
  "language_info": {
   "codemirror_mode": {
    "name": "ipython",
    "version": 3
   },
   "file_extension": ".py",
   "mimetype": "text/x-python",
   "name": "python",
   "nbconvert_exporter": "python",
   "pygments_lexer": "ipython3",
   "version": "3.7.4"
  }
 },
 "nbformat": 4,
 "nbformat_minor": 2
}
