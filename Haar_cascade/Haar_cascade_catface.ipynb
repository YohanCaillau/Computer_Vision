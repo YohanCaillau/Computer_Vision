{
 "cells": [
  {
   "cell_type": "code",
   "execution_count": null,
   "metadata": {},
   "outputs": [],
   "source": [
    "import cv2\n",
    "import matplotlib.pyplot as plt\n",
    "%matplotlib notebook"
   ]
  },
  {
   "cell_type": "code",
   "execution_count": null,
   "metadata": {},
   "outputs": [],
   "source": [
    "face_cascade = cv2.CascadeClassifier('haarcascade_frontalcatface.xml')\n",
    "img = cv2.imread('index.png')\n",
    "#img = cv2.imread('singe.jpg')\n",
    "#img = cv2.imread('chien.jpg')\n",
    "#img = cv2.imread('cats.jpg')\n",
    "#img = cv2.imread('dog-and-cat.jpg')\n",
    "#img = cv2.imread('cat_dog.png')\n",
    "#img = cv2.imread('catdog3.png')\n",
    "#img = cv2.imread('kitten_puppy.jfif')\n",
    "#img = cv2.imread('index_inversed.png')\n",
    "img = cv2.cvtColor(img,cv2.COLOR_BGR2RGB)\n",
    "faces = face_cascade.detectMultiScale(img, scaleFactor=1.05, minNeighbors=5)\n",
    "for (x,y,w,h) in faces:\n",
    "    cv2.rectangle(img,(x,y),(x+w,y+h),(255,0,0),2)\n",
    "\n",
    "\n",
    "plt.imshow(img)\n",
    "#cv2.imshow('img',img)\n",
    "#cv2.waitKey(0)\n",
    "#cv2.destroyAllWindows()"
   ]
  }
 ],
 "metadata": {
  "kernelspec": {
   "display_name": "Python 3",
   "language": "python",
   "name": "python3"
  },
  "language_info": {
   "codemirror_mode": {
    "name": "ipython",
    "version": 3
   },
   "file_extension": ".py",
   "mimetype": "text/x-python",
   "name": "python",
   "nbconvert_exporter": "python",
   "pygments_lexer": "ipython3",
   "version": "3.7.3"
  }
 },
 "nbformat": 4,
 "nbformat_minor": 2
}
