{
 "cells": [
  {
   "cell_type": "code",
   "execution_count": 1,
   "metadata": {},
   "outputs": [
    {
     "data": {
      "text/plain": [
       "((49262, 4), (12316, 4))"
      ]
     },
     "execution_count": 1,
     "metadata": {},
     "output_type": "execute_result"
    }
   ],
   "source": [
    "import numpy as np\n",
    "import pandas as pd\n",
    "from sklearn.model_selection import train_test_split\n",
    "\n",
    "df = pd.read_csv('class1_df.csv')\n",
    "\n",
    "df_train, df_val = train_test_split(df, test_size=.2)\n",
    "df_train.shape, df_val.shape"
   ]
  },
  {
   "cell_type": "code",
   "execution_count": 2,
   "metadata": {},
   "outputs": [
    {
     "name": "stderr",
     "output_type": "stream",
     "text": [
      "100%|██████████| 49262/49262 [07:46<00:00, 105.64it/s]\n",
      "100%|██████████| 12316/12316 [01:54<00:00, 107.59it/s]\n"
     ]
    }
   ],
   "source": [
    "from skimage.transform import resize\n",
    "from tqdm import tqdm\n",
    "import matplotlib.pyplot as plt\n",
    "%matplotlib inline\n",
    "          \n",
    "\n",
    "ORIG_SHAPE = (424,424)\n",
    "CROP_SIZE = (256,256)\n",
    "IMG_SHAPE = (64,64)\n",
    "\n",
    "def get_image(path, x1,y1, shape, crop_size):\n",
    "    x = plt.imread(path)\n",
    "    x = x[x1:x1+crop_size[0], y1:y1+crop_size[1]]\n",
    "    x = resize(x, shape)\n",
    "    x = x/255.\n",
    "    return x\n",
    "    \n",
    "def get_all_images(dataframe, shape=IMG_SHAPE, crop_size=CROP_SIZE):\n",
    "    x1 = (ORIG_SHAPE[0]-CROP_SIZE[0])//2\n",
    "    y1 = (ORIG_SHAPE[1]-CROP_SIZE[1])//2\n",
    "   \n",
    "    sel = dataframe.values\n",
    "    ids = sel[:,0].astype(int).astype(str)\n",
    "    y_batch = sel[:,1:]\n",
    "    x_batch = []\n",
    "    for i in tqdm(ids):\n",
    "        x = get_image('./galaxy-zoo-data/images_training_rev1/'+i+'.jpg', x1,y1, shape=shape, crop_size=crop_size)\n",
    "        x_batch.append(x)\n",
    "    x_batch = np.array(x_batch)\n",
    "    return x_batch, y_batch\n",
    "        \n",
    "X_train, y_train = get_all_images(df_train)\n",
    "X_val, y_val = get_all_images(df_val)"
   ]
  },
  {
   "cell_type": "code",
   "execution_count": 4,
   "metadata": {},
   "outputs": [],
   "source": [
    "#for i in range(3):\n",
    "    #x = 110\n",
    "    #y = 110\n",
    "    #h = 25\n",
    "    #w = 25\n",
    "    #crop_img = original[x-h:x+h,y-w:y+w]\n",
    "    #cv2.imshow(\"cropped\", crop_img)\n",
    "    #cv2.waitKey(0)\n",
    "    #cv2.destroyAllWindows()"
   ]
  },
  {
   "cell_type": "code",
   "execution_count": 5,
   "metadata": {},
   "outputs": [
    {
     "data": {
      "text/plain": [
       "<matplotlib.colorbar.Colorbar at 0x18982cfcfc8>"
      ]
     },
     "execution_count": 5,
     "metadata": {},
     "output_type": "execute_result"
    },
    {
     "data": {
      "image/png": "[encoded data removed]",
      "text/plain": [
       "<Figure size 432x288 with 2 Axes>"
      ]
     },
     "metadata": {
      "needs_background": "light"
     },
     "output_type": "display_data"
    }
   ],
   "source": [
    "plt.pcolormesh(X_train[49261,:,:,0])\n",
    "plt.colorbar()"
   ]
  },
  {
   "cell_type": "code",
   "execution_count": 6,
   "metadata": {},
   "outputs": [
    {
     "data": {
      "text/plain": [
       "array([[6.15148020e-05, 3.07574010e-05, 5.38254517e-05, ...,\n",
       "        1.92233756e-05, 0.00000000e+00, 0.00000000e+00],\n",
       "       [4.61361015e-05, 2.69127259e-05, 7.68935025e-06, ...,\n",
       "        1.53787005e-05, 6.92041522e-05, 3.07574010e-05],\n",
       "       [1.92233756e-05, 2.69127259e-05, 1.53787005e-05, ...,\n",
       "        2.30680507e-05, 8.84275279e-05, 5.38254517e-05],\n",
       "       ...,\n",
       "       [1.53787005e-05, 6.15148020e-05, 3.07574010e-05, ...,\n",
       "        0.00000000e+00, 0.00000000e+00, 0.00000000e+00],\n",
       "       [1.92233756e-05, 1.15340254e-05, 1.53787005e-05, ...,\n",
       "        0.00000000e+00, 0.00000000e+00, 1.15340254e-05],\n",
       "       [2.30680507e-05, 1.53787005e-05, 7.68935025e-06, ...,\n",
       "        1.53787005e-05, 0.00000000e+00, 0.00000000e+00]])"
      ]
     },
     "execution_count": 6,
     "metadata": {},
     "output_type": "execute_result"
    }
   ],
   "source": [
    "X_train[1, :, :, 0]"
   ]
  },
  {
   "cell_type": "code",
   "execution_count": 7,
   "metadata": {},
   "outputs": [
    {
     "data": {
      "text/plain": [
       "((49262, 64, 64, 3), (49262, 3))"
      ]
     },
     "execution_count": 7,
     "metadata": {},
     "output_type": "execute_result"
    }
   ],
   "source": [
    "X_train.shape, y_train.shape"
   ]
  },
  {
   "cell_type": "code",
   "execution_count": 8,
   "metadata": {},
   "outputs": [
    {
     "data": {
      "text/plain": [
       "(12316, 3)"
      ]
     },
     "execution_count": 8,
     "metadata": {},
     "output_type": "execute_result"
    }
   ],
   "source": [
    "y_val.shape"
   ]
  },
  {
   "cell_type": "markdown",
   "metadata": {},
   "source": [
    "Tutorial CNN : https://victorzhou.com/blog/keras-cnn-tutorial/"
   ]
  },
  {
   "cell_type": "code",
   "execution_count": 9,
   "metadata": {},
   "outputs": [],
   "source": [
    "# ! pip install keras tensorflow numpy mnist"
   ]
  },
  {
   "cell_type": "code",
   "execution_count": 10,
   "metadata": {},
   "outputs": [],
   "source": [
    "#import numpy as np\n",
    "#import mnist\n",
    "#import keras\n",
    "\n",
    " #The first time you run this might be a bit slow, since the mnist package has to download and cache the data.\n",
    "#train_images = mnist.train_images()\n",
    "#train_labels = mnist.train_labels()\n",
    "#test_images = mnist.test_images()\n",
    "#test_labels = mnist.test_labels()\n",
    "\n",
    "#print(train_images.shape) # (60000, 28, 28)\n",
    "#print(train_labels.shape) # (60000,)"
   ]
  },
  {
   "cell_type": "code",
   "execution_count": 11,
   "metadata": {
    "scrolled": true
   },
   "outputs": [
    {
     "name": "stdout",
     "output_type": "stream",
     "text": [
      "(49262, 64, 64, 3)\n",
      "(12316, 64, 64, 3)\n"
     ]
    }
   ],
   "source": [
    "# Normalize the images.\n",
    "train_images = (X_train / 255) - 0.5\n",
    "val_images = (X_val / 255) - 0.5\n",
    "\n",
    "print(train_images.shape) \n",
    "print(val_images.shape)  "
   ]
  },
  {
   "cell_type": "code",
   "execution_count": 12,
   "metadata": {},
   "outputs": [
    {
     "name": "stderr",
     "output_type": "stream",
     "text": [
      "Using TensorFlow backend.\n"
     ]
    },
    {
     "name": "stdout",
     "output_type": "stream",
     "text": [
      "WARNING:tensorflow:From C:\\Users\\utilisateur\\Anaconda3\\envs\\computer_vision\\lib\\site-packages\\keras\\backend\\tensorflow_backend.py:74: The name tf.get_default_graph is deprecated. Please use tf.compat.v1.get_default_graph instead.\n",
      "\n",
      "WARNING:tensorflow:From C:\\Users\\utilisateur\\Anaconda3\\envs\\computer_vision\\lib\\site-packages\\keras\\backend\\tensorflow_backend.py:517: The name tf.placeholder is deprecated. Please use tf.compat.v1.placeholder instead.\n",
      "\n",
      "WARNING:tensorflow:From C:\\Users\\utilisateur\\Anaconda3\\envs\\computer_vision\\lib\\site-packages\\keras\\backend\\tensorflow_backend.py:4138: The name tf.random_uniform is deprecated. Please use tf.random.uniform instead.\n",
      "\n",
      "WARNING:tensorflow:From C:\\Users\\utilisateur\\Anaconda3\\envs\\computer_vision\\lib\\site-packages\\keras\\backend\\tensorflow_backend.py:174: The name tf.get_default_session is deprecated. Please use tf.compat.v1.get_default_session instead.\n",
      "\n",
      "WARNING:tensorflow:From C:\\Users\\utilisateur\\Anaconda3\\envs\\computer_vision\\lib\\site-packages\\keras\\backend\\tensorflow_backend.py:181: The name tf.ConfigProto is deprecated. Please use tf.compat.v1.ConfigProto instead.\n",
      "\n",
      "WARNING:tensorflow:From C:\\Users\\utilisateur\\Anaconda3\\envs\\computer_vision\\lib\\site-packages\\keras\\backend\\tensorflow_backend.py:186: The name tf.Session is deprecated. Please use tf.compat.v1.Session instead.\n",
      "\n",
      "WARNING:tensorflow:From C:\\Users\\utilisateur\\Anaconda3\\envs\\computer_vision\\lib\\site-packages\\keras\\backend\\tensorflow_backend.py:190: The name tf.global_variables is deprecated. Please use tf.compat.v1.global_variables instead.\n",
      "\n",
      "WARNING:tensorflow:From C:\\Users\\utilisateur\\Anaconda3\\envs\\computer_vision\\lib\\site-packages\\keras\\backend\\tensorflow_backend.py:199: The name tf.is_variable_initialized is deprecated. Please use tf.compat.v1.is_variable_initialized instead.\n",
      "\n",
      "WARNING:tensorflow:From C:\\Users\\utilisateur\\Anaconda3\\envs\\computer_vision\\lib\\site-packages\\keras\\backend\\tensorflow_backend.py:206: The name tf.variables_initializer is deprecated. Please use tf.compat.v1.variables_initializer instead.\n",
      "\n",
      "WARNING:tensorflow:From C:\\Users\\utilisateur\\Anaconda3\\envs\\computer_vision\\lib\\site-packages\\keras\\backend\\tensorflow_backend.py:1834: The name tf.nn.fused_batch_norm is deprecated. Please use tf.compat.v1.nn.fused_batch_norm instead.\n",
      "\n"
     ]
    },
    {
     "name": "stderr",
     "output_type": "stream",
     "text": [
      "C:\\Users\\utilisateur\\Anaconda3\\envs\\computer_vision\\lib\\site-packages\\keras_applications\\mobilenet.py:207: UserWarning: `input_shape` is undefined or non-square, or `rows` is not in [128, 160, 192, 224]. Weights for input shape (224, 224) will be loaded as the default.\n",
      "  warnings.warn('`input_shape` is undefined or non-square, '\n"
     ]
    },
    {
     "name": "stdout",
     "output_type": "stream",
     "text": [
      "WARNING:tensorflow:From C:\\Users\\utilisateur\\Anaconda3\\envs\\computer_vision\\lib\\site-packages\\keras\\backend\\tensorflow_backend.py:133: The name tf.placeholder_with_default is deprecated. Please use tf.compat.v1.placeholder_with_default instead.\n",
      "\n"
     ]
    }
   ],
   "source": [
    "# ignore Warning\n",
    "import warnings\n",
    "warnings.filterwarnings(\"ignore\")\n",
    "\n",
    "from keras.models import Sequential\n",
    "from keras.layers import Activation, Dropout, Flatten, Dense, BatchNormalization, GlobalMaxPooling2D, Conv2D, MaxPooling2D\n",
    "import tensorflow as tf\n",
    "from keras.models import Sequential\n",
    "from keras.layers import Activation, Dropout, Flatten, Dense, BatchNormalization, GlobalMaxPooling2D, Conv2D, MaxPooling2D\n",
    "from keras.applications import MobileNet\n",
    "from keras.callbacks import EarlyStopping\n",
    "\n",
    "callbacks = [EarlyStopping(monitor='val_accuracy', patience=10)]\n",
    "\n",
    "seed = 7\n",
    "np.random.seed(seed)\n",
    "tf.set_random_seed(seed)\n",
    "#tf.random.set_seed(seed)\n",
    "\n",
    "pretrained_model = MobileNet(include_top=False, input_shape=(64, 64, 3), weights='imagenet')\n",
    "\n",
    "model = Sequential()\n",
    "model.add(pretrained_model)\n",
    "#model.add(Conv2D(filters=8, kernel_size=(6,6),input_shape=(64,64,3),activation='relu'))\n",
    "#model.add(MaxPooling2D(pool_size=(2,2)))\n",
    "model.add(Conv2D(filters=8, kernel_size=(6,6),activation='relu'))\n",
    "model.add(Dropout(0.5))\n",
    "model.add(MaxPooling2D(pool_size=(4,4)))\n",
    "#model.add(Dense(128, activation='relu'))\n",
    "model.add(Flatten())\n",
    "model.add(Dense(3, activation='softmax'))\n",
    "\n",
    "  #Conv2D(num_filters, filter_size, input_shape=(64, 64, 3)),\n",
    "  #MaxPooling2D(pool_size=pool_size),\n",
    "  #Flatten(),\n",
    "  #Dense(3, activation='sigmoid'),\n",
    "#])\n",
    "\n"
   ]
  },
  {
   "cell_type": "code",
   "execution_count": 13,
   "metadata": {},
   "outputs": [
    {
     "name": "stdout",
     "output_type": "stream",
     "text": [
      "WARNING:tensorflow:From C:\\Users\\utilisateur\\Anaconda3\\envs\\computer_vision\\lib\\site-packages\\keras\\optimizers.py:790: The name tf.train.Optimizer is deprecated. Please use tf.compat.v1.train.Optimizer instead.\n",
      "\n",
      "WARNING:tensorflow:From C:\\Users\\utilisateur\\Anaconda3\\envs\\computer_vision\\lib\\site-packages\\keras\\backend\\tensorflow_backend.py:3295: The name tf.log is deprecated. Please use tf.math.log instead.\n",
      "\n"
     ]
    }
   ],
   "source": [
    "import keras\n",
    "# Set Optimizer\n",
    "#opt = adam(lr=0.001)\n",
    "model.compile(\n",
    "  loss='categorical_crossentropy',\n",
    "  optimizer=keras.optimizers.Adamax(),\n",
    "  metrics=['accuracy'],\n",
    ")"
   ]
  },
  {
   "cell_type": "code",
   "execution_count": 14,
   "metadata": {
    "scrolled": true
   },
   "outputs": [
    {
     "name": "stdout",
     "output_type": "stream",
     "text": [
      "WARNING:tensorflow:From C:\\Users\\utilisateur\\Anaconda3\\envs\\computer_vision\\lib\\site-packages\\tensorflow_core\\python\\ops\\math_grad.py:1424: where (from tensorflow.python.ops.array_ops) is deprecated and will be removed in a future version.\n",
      "Instructions for updating:\n",
      "Use tf.where in 2.0, which has the same broadcast rule as np.where\n",
      "WARNING:tensorflow:From C:\\Users\\utilisateur\\Anaconda3\\envs\\computer_vision\\lib\\site-packages\\keras\\backend\\tensorflow_backend.py:986: The name tf.assign_add is deprecated. Please use tf.compat.v1.assign_add instead.\n",
      "\n",
      "WARNING:tensorflow:From C:\\Users\\utilisateur\\Anaconda3\\envs\\computer_vision\\lib\\site-packages\\keras\\backend\\tensorflow_backend.py:973: The name tf.assign is deprecated. Please use tf.compat.v1.assign instead.\n",
      "\n",
      "Train on 49262 samples, validate on 12316 samples\n",
      "Epoch 1/100\n",
      "49262/49262 [==============================] - 1390s 28ms/step - loss: 1.0818 - acc: 0.7249 - val_loss: 2.2966 - val_acc: 0.5731\n",
      "Epoch 2/100\n",
      "49262/49262 [==============================] - 1476s 30ms/step - loss: 1.0127 - acc: 0.7560 - val_loss: 1.7198 - val_acc: 0.4262\n",
      "Epoch 3/100\n",
      "49262/49262 [==============================] - 1464s 30ms/step - loss: 1.0022 - acc: 0.7704 - val_loss: 0.8983 - val_acc: 0.5723\n",
      "Epoch 4/100\n",
      "49262/49262 [==============================] - 1463s 30ms/step - loss: 0.9960 - acc: 0.7783 - val_loss: 1.3137 - val_acc: 0.4262\n",
      "Epoch 5/100\n",
      "49262/49262 [==============================] - 1462s 30ms/step - loss: 0.9847 - acc: 0.7911 - val_loss: 0.8746 - val_acc: 0.5731\n",
      "Epoch 6/100\n",
      "49262/49262 [==============================] - 1461s 30ms/step - loss: 0.9861 - acc: 0.7874 - val_loss: 2.0753 - val_acc: 0.4262\n",
      "Epoch 7/100\n",
      "49262/49262 [==============================] - 1504s 31ms/step - loss: 0.9797 - acc: 0.7968 - val_loss: 1.7711 - val_acc: 0.4262\n",
      "Epoch 8/100\n",
      "49262/49262 [==============================] - 1462s 30ms/step - loss: 0.9793 - acc: 0.7962 - val_loss: 2.7775 - val_acc: 0.4262\n",
      "Epoch 9/100\n",
      "49262/49262 [==============================] - 1457s 30ms/step - loss: 0.9766 - acc: 0.7992 - val_loss: 1.2761 - val_acc: 0.4262\n",
      "Epoch 10/100\n",
      "49262/49262 [==============================] - 1461s 30ms/step - loss: 0.9747 - acc: 0.8010 - val_loss: 1.8124 - val_acc: 0.4262\n",
      "Epoch 11/100\n",
      "49262/49262 [==============================] - 1458s 30ms/step - loss: 0.9710 - acc: 0.8047 - val_loss: 1.1630 - val_acc: 0.4262\n",
      "Epoch 12/100\n",
      "49262/49262 [==============================] - 1463s 30ms/step - loss: 0.9692 - acc: 0.8085 - val_loss: 1.8144 - val_acc: 0.4262\n",
      "Epoch 13/100\n",
      "49262/49262 [==============================] - 1463s 30ms/step - loss: 0.9675 - acc: 0.8091 - val_loss: 1.6649 - val_acc: 0.4262\n",
      "Epoch 14/100\n",
      "49262/49262 [==============================] - 1460s 30ms/step - loss: 0.9675 - acc: 0.8091 - val_loss: 1.0966 - val_acc: 0.4262\n",
      "Epoch 15/100\n",
      "49262/49262 [==============================] - 1460s 30ms/step - loss: 0.9647 - acc: 0.8132 - val_loss: 1.4411 - val_acc: 0.4262\n",
      "Epoch 16/100\n",
      "49262/49262 [==============================] - 1460s 30ms/step - loss: 0.9692 - acc: 0.8102 - val_loss: 2.5503 - val_acc: 0.5731\n",
      "Epoch 17/100\n",
      "49262/49262 [==============================] - 1459s 30ms/step - loss: 0.9660 - acc: 0.8114 - val_loss: 1.2369 - val_acc: 0.4262\n",
      "Epoch 18/100\n",
      "49262/49262 [==============================] - 1458s 30ms/step - loss: 0.9605 - acc: 0.8186 - val_loss: 1.1267 - val_acc: 0.4262\n",
      "Epoch 19/100\n",
      "49262/49262 [==============================] - 1457s 30ms/step - loss: 0.9590 - acc: 0.8215 - val_loss: 1.0495 - val_acc: 0.5731\n",
      "Epoch 20/100\n",
      "49262/49262 [==============================] - 1459s 30ms/step - loss: 0.9541 - acc: 0.8293 - val_loss: 1.0902 - val_acc: 0.5731\n",
      "Epoch 21/100\n",
      "49262/49262 [==============================] - 1461s 30ms/step - loss: 0.9538 - acc: 0.8290 - val_loss: 3.2811 - val_acc: 0.5731\n",
      "Epoch 22/100\n",
      "49262/49262 [==============================] - 1465s 30ms/step - loss: 0.9554 - acc: 0.8263 - val_loss: 1.0572 - val_acc: 0.4262\n",
      "Epoch 23/100\n",
      "49262/49262 [==============================] - 1465s 30ms/step - loss: 0.9532 - acc: 0.8276 - val_loss: 2.8132 - val_acc: 0.5731\n",
      "Epoch 24/100\n",
      "49262/49262 [==============================] - 1466s 30ms/step - loss: 0.9508 - acc: 0.8320 - val_loss: 2.9116 - val_acc: 0.5731\n",
      "Epoch 25/100\n",
      "49262/49262 [==============================] - 1472s 30ms/step - loss: 0.9512 - acc: 0.8318 - val_loss: 2.2423 - val_acc: 0.5731\n",
      "Epoch 26/100\n",
      "49262/49262 [==============================] - 1470s 30ms/step - loss: 0.9496 - acc: 0.8344 - val_loss: 2.3930 - val_acc: 0.5731\n",
      "Epoch 27/100\n",
      "49262/49262 [==============================] - 1474s 30ms/step - loss: 0.9486 - acc: 0.8372 - val_loss: 1.1818 - val_acc: 0.4262\n",
      "Epoch 28/100\n",
      "49262/49262 [==============================] - 1472s 30ms/step - loss: 0.9473 - acc: 0.8358 - val_loss: 1.0774 - val_acc: 0.5731\n",
      "Epoch 29/100\n",
      "49262/49262 [==============================] - 1475s 30ms/step - loss: 0.9461 - acc: 0.8382 - val_loss: 1.1195 - val_acc: 0.5731\n",
      "Epoch 30/100\n",
      "49262/49262 [==============================] - 1474s 30ms/step - loss: 0.9468 - acc: 0.8370 - val_loss: 1.3540 - val_acc: 0.4262\n",
      "Epoch 31/100\n",
      "49262/49262 [==============================] - 1475s 30ms/step - loss: 0.9467 - acc: 0.8370 - val_loss: 2.6231 - val_acc: 0.5731\n",
      "Epoch 32/100\n",
      "49262/49262 [==============================] - 1476s 30ms/step - loss: 0.9448 - acc: 0.8407 - val_loss: 1.2552 - val_acc: 0.4262\n",
      "Epoch 33/100\n",
      "49262/49262 [==============================] - 1478s 30ms/step - loss: 0.9439 - acc: 0.8405 - val_loss: 1.6250 - val_acc: 0.5731\n",
      "Epoch 34/100\n",
      "49262/49262 [==============================] - 1480s 30ms/step - loss: 0.9438 - acc: 0.8428 - val_loss: 1.2140 - val_acc: 0.4262\n",
      "Epoch 35/100\n",
      "49262/49262 [==============================] - 1483s 30ms/step - loss: 0.9423 - acc: 0.8440 - val_loss: 1.6559 - val_acc: 0.4262\n",
      "Epoch 36/100\n",
      "49262/49262 [==============================] - 2687s 55ms/step - loss: 0.9458 - acc: 0.8387 - val_loss: 1.1887 - val_acc: 0.4262\n",
      "Epoch 37/100\n",
      " 1600/49262 [..............................] - ETA: 11:15 - loss: 0.9498 - acc: 0.8413"
     ]
    },
    {
     "ename": "KeyboardInterrupt",
     "evalue": "",
     "output_type": "error",
     "traceback": [
      "\u001b[1;31m---------------------------------------------------------------------------\u001b[0m",
      "\u001b[1;31mKeyboardInterrupt\u001b[0m                         Traceback (most recent call last)",
      "\u001b[1;32m<ipython-input-14-3d11270d0cf1>\u001b[0m in \u001b[0;36m<module>\u001b[1;34m\u001b[0m\n\u001b[0;32m      9\u001b[0m   \u001b[0mvalidation_data\u001b[0m\u001b[1;33m=\u001b[0m\u001b[1;33m(\u001b[0m\u001b[0mval_images\u001b[0m\u001b[1;33m,\u001b[0m \u001b[0my_val\u001b[0m\u001b[1;33m)\u001b[0m\u001b[1;33m,\u001b[0m\u001b[1;33m\u001b[0m\u001b[1;33m\u001b[0m\u001b[0m\n\u001b[0;32m     10\u001b[0m   \u001b[0mbatch_size\u001b[0m\u001b[1;33m=\u001b[0m\u001b[0mX_train\u001b[0m\u001b[1;33m.\u001b[0m\u001b[0mshape\u001b[0m\u001b[1;33m[\u001b[0m\u001b[1;36m1\u001b[0m\u001b[1;33m]\u001b[0m\u001b[1;33m,\u001b[0m\u001b[1;33m\u001b[0m\u001b[1;33m\u001b[0m\u001b[0m\n\u001b[1;32m---> 11\u001b[1;33m   \u001b[0mcallbacks\u001b[0m\u001b[1;33m=\u001b[0m\u001b[0mcallbacks\u001b[0m\u001b[1;33m\u001b[0m\u001b[1;33m\u001b[0m\u001b[0m\n\u001b[0m\u001b[0;32m     12\u001b[0m )\n",
      "\u001b[1;32m~\\Anaconda3\\envs\\computer_vision\\lib\\site-packages\\keras\\engine\\training.py\u001b[0m in \u001b[0;36mfit\u001b[1;34m(self, x, y, batch_size, epochs, verbose, callbacks, validation_split, validation_data, shuffle, class_weight, sample_weight, initial_epoch, steps_per_epoch, validation_steps, **kwargs)\u001b[0m\n\u001b[0;32m   1037\u001b[0m                                         \u001b[0minitial_epoch\u001b[0m\u001b[1;33m=\u001b[0m\u001b[0minitial_epoch\u001b[0m\u001b[1;33m,\u001b[0m\u001b[1;33m\u001b[0m\u001b[1;33m\u001b[0m\u001b[0m\n\u001b[0;32m   1038\u001b[0m                                         \u001b[0msteps_per_epoch\u001b[0m\u001b[1;33m=\u001b[0m\u001b[0msteps_per_epoch\u001b[0m\u001b[1;33m,\u001b[0m\u001b[1;33m\u001b[0m\u001b[1;33m\u001b[0m\u001b[0m\n\u001b[1;32m-> 1039\u001b[1;33m                                         validation_steps=validation_steps)\n\u001b[0m\u001b[0;32m   1040\u001b[0m \u001b[1;33m\u001b[0m\u001b[0m\n\u001b[0;32m   1041\u001b[0m     def evaluate(self, x=None, y=None,\n",
      "\u001b[1;32m~\\Anaconda3\\envs\\computer_vision\\lib\\site-packages\\keras\\engine\\training_arrays.py\u001b[0m in \u001b[0;36mfit_loop\u001b[1;34m(model, f, ins, out_labels, batch_size, epochs, verbose, callbacks, val_f, val_ins, shuffle, callback_metrics, initial_epoch, steps_per_epoch, validation_steps)\u001b[0m\n\u001b[0;32m    197\u001b[0m                     \u001b[0mins_batch\u001b[0m\u001b[1;33m[\u001b[0m\u001b[0mi\u001b[0m\u001b[1;33m]\u001b[0m \u001b[1;33m=\u001b[0m \u001b[0mins_batch\u001b[0m\u001b[1;33m[\u001b[0m\u001b[0mi\u001b[0m\u001b[1;33m]\u001b[0m\u001b[1;33m.\u001b[0m\u001b[0mtoarray\u001b[0m\u001b[1;33m(\u001b[0m\u001b[1;33m)\u001b[0m\u001b[1;33m\u001b[0m\u001b[1;33m\u001b[0m\u001b[0m\n\u001b[0;32m    198\u001b[0m \u001b[1;33m\u001b[0m\u001b[0m\n\u001b[1;32m--> 199\u001b[1;33m                 \u001b[0mouts\u001b[0m \u001b[1;33m=\u001b[0m \u001b[0mf\u001b[0m\u001b[1;33m(\u001b[0m\u001b[0mins_batch\u001b[0m\u001b[1;33m)\u001b[0m\u001b[1;33m\u001b[0m\u001b[1;33m\u001b[0m\u001b[0m\n\u001b[0m\u001b[0;32m    200\u001b[0m                 \u001b[0mouts\u001b[0m \u001b[1;33m=\u001b[0m \u001b[0mto_list\u001b[0m\u001b[1;33m(\u001b[0m\u001b[0mouts\u001b[0m\u001b[1;33m)\u001b[0m\u001b[1;33m\u001b[0m\u001b[1;33m\u001b[0m\u001b[0m\n\u001b[0;32m    201\u001b[0m                 \u001b[1;32mfor\u001b[0m \u001b[0ml\u001b[0m\u001b[1;33m,\u001b[0m \u001b[0mo\u001b[0m \u001b[1;32min\u001b[0m \u001b[0mzip\u001b[0m\u001b[1;33m(\u001b[0m\u001b[0mout_labels\u001b[0m\u001b[1;33m,\u001b[0m \u001b[0mouts\u001b[0m\u001b[1;33m)\u001b[0m\u001b[1;33m:\u001b[0m\u001b[1;33m\u001b[0m\u001b[1;33m\u001b[0m\u001b[0m\n",
      "\u001b[1;32m~\\Anaconda3\\envs\\computer_vision\\lib\\site-packages\\keras\\backend\\tensorflow_backend.py\u001b[0m in \u001b[0;36m__call__\u001b[1;34m(self, inputs)\u001b[0m\n\u001b[0;32m   2713\u001b[0m                 \u001b[1;32mreturn\u001b[0m \u001b[0mself\u001b[0m\u001b[1;33m.\u001b[0m\u001b[0m_legacy_call\u001b[0m\u001b[1;33m(\u001b[0m\u001b[0minputs\u001b[0m\u001b[1;33m)\u001b[0m\u001b[1;33m\u001b[0m\u001b[1;33m\u001b[0m\u001b[0m\n\u001b[0;32m   2714\u001b[0m \u001b[1;33m\u001b[0m\u001b[0m\n\u001b[1;32m-> 2715\u001b[1;33m             \u001b[1;32mreturn\u001b[0m \u001b[0mself\u001b[0m\u001b[1;33m.\u001b[0m\u001b[0m_call\u001b[0m\u001b[1;33m(\u001b[0m\u001b[0minputs\u001b[0m\u001b[1;33m)\u001b[0m\u001b[1;33m\u001b[0m\u001b[1;33m\u001b[0m\u001b[0m\n\u001b[0m\u001b[0;32m   2716\u001b[0m         \u001b[1;32melse\u001b[0m\u001b[1;33m:\u001b[0m\u001b[1;33m\u001b[0m\u001b[1;33m\u001b[0m\u001b[0m\n\u001b[0;32m   2717\u001b[0m             \u001b[1;32mif\u001b[0m \u001b[0mpy_any\u001b[0m\u001b[1;33m(\u001b[0m\u001b[0mis_tensor\u001b[0m\u001b[1;33m(\u001b[0m\u001b[0mx\u001b[0m\u001b[1;33m)\u001b[0m \u001b[1;32mfor\u001b[0m \u001b[0mx\u001b[0m \u001b[1;32min\u001b[0m \u001b[0minputs\u001b[0m\u001b[1;33m)\u001b[0m\u001b[1;33m:\u001b[0m\u001b[1;33m\u001b[0m\u001b[1;33m\u001b[0m\u001b[0m\n",
      "\u001b[1;32m~\\Anaconda3\\envs\\computer_vision\\lib\\site-packages\\keras\\backend\\tensorflow_backend.py\u001b[0m in \u001b[0;36m_call\u001b[1;34m(self, inputs)\u001b[0m\n\u001b[0;32m   2673\u001b[0m             \u001b[0mfetched\u001b[0m \u001b[1;33m=\u001b[0m \u001b[0mself\u001b[0m\u001b[1;33m.\u001b[0m\u001b[0m_callable_fn\u001b[0m\u001b[1;33m(\u001b[0m\u001b[1;33m*\u001b[0m\u001b[0marray_vals\u001b[0m\u001b[1;33m,\u001b[0m \u001b[0mrun_metadata\u001b[0m\u001b[1;33m=\u001b[0m\u001b[0mself\u001b[0m\u001b[1;33m.\u001b[0m\u001b[0mrun_metadata\u001b[0m\u001b[1;33m)\u001b[0m\u001b[1;33m\u001b[0m\u001b[1;33m\u001b[0m\u001b[0m\n\u001b[0;32m   2674\u001b[0m         \u001b[1;32melse\u001b[0m\u001b[1;33m:\u001b[0m\u001b[1;33m\u001b[0m\u001b[1;33m\u001b[0m\u001b[0m\n\u001b[1;32m-> 2675\u001b[1;33m             \u001b[0mfetched\u001b[0m \u001b[1;33m=\u001b[0m \u001b[0mself\u001b[0m\u001b[1;33m.\u001b[0m\u001b[0m_callable_fn\u001b[0m\u001b[1;33m(\u001b[0m\u001b[1;33m*\u001b[0m\u001b[0marray_vals\u001b[0m\u001b[1;33m)\u001b[0m\u001b[1;33m\u001b[0m\u001b[1;33m\u001b[0m\u001b[0m\n\u001b[0m\u001b[0;32m   2676\u001b[0m         \u001b[1;32mreturn\u001b[0m \u001b[0mfetched\u001b[0m\u001b[1;33m[\u001b[0m\u001b[1;33m:\u001b[0m\u001b[0mlen\u001b[0m\u001b[1;33m(\u001b[0m\u001b[0mself\u001b[0m\u001b[1;33m.\u001b[0m\u001b[0moutputs\u001b[0m\u001b[1;33m)\u001b[0m\u001b[1;33m]\u001b[0m\u001b[1;33m\u001b[0m\u001b[1;33m\u001b[0m\u001b[0m\n\u001b[0;32m   2677\u001b[0m \u001b[1;33m\u001b[0m\u001b[0m\n",
      "\u001b[1;32m~\\Anaconda3\\envs\\computer_vision\\lib\\site-packages\\tensorflow_core\\python\\client\\session.py\u001b[0m in \u001b[0;36m__call__\u001b[1;34m(self, *args, **kwargs)\u001b[0m\n\u001b[0;32m   1470\u001b[0m         ret = tf_session.TF_SessionRunCallable(self._session._session,\n\u001b[0;32m   1471\u001b[0m                                                \u001b[0mself\u001b[0m\u001b[1;33m.\u001b[0m\u001b[0m_handle\u001b[0m\u001b[1;33m,\u001b[0m \u001b[0margs\u001b[0m\u001b[1;33m,\u001b[0m\u001b[1;33m\u001b[0m\u001b[1;33m\u001b[0m\u001b[0m\n\u001b[1;32m-> 1472\u001b[1;33m                                                run_metadata_ptr)\n\u001b[0m\u001b[0;32m   1473\u001b[0m         \u001b[1;32mif\u001b[0m \u001b[0mrun_metadata\u001b[0m\u001b[1;33m:\u001b[0m\u001b[1;33m\u001b[0m\u001b[1;33m\u001b[0m\u001b[0m\n\u001b[0;32m   1474\u001b[0m           \u001b[0mproto_data\u001b[0m \u001b[1;33m=\u001b[0m \u001b[0mtf_session\u001b[0m\u001b[1;33m.\u001b[0m\u001b[0mTF_GetBuffer\u001b[0m\u001b[1;33m(\u001b[0m\u001b[0mrun_metadata_ptr\u001b[0m\u001b[1;33m)\u001b[0m\u001b[1;33m\u001b[0m\u001b[1;33m\u001b[0m\u001b[0m\n",
      "\u001b[1;31mKeyboardInterrupt\u001b[0m: "
     ]
    }
   ],
   "source": [
    "# ignore Warning\n",
    "import warnings\n",
    "warnings.filterwarnings(\"ignore\")\n",
    "\n",
    "history = model.fit(\n",
    "  train_images,\n",
    "  y_train,\n",
    "  epochs=100,\n",
    "  validation_data=(val_images, y_val),\n",
    "  batch_size=X_train.shape[1], \n",
    "  callbacks=callbacks\n",
    ")"
   ]
  },
  {
   "cell_type": "code",
   "execution_count": 15,
   "metadata": {},
   "outputs": [
    {
     "name": "stdout",
     "output_type": "stream",
     "text": [
      "_________________________________________________________________\n",
      "Layer (type)                 Output Shape              Param #   \n",
      "=================================================================\n",
      "conv2d_1 (Conv2D)            (None, 59, 59, 8)         872       \n",
      "_________________________________________________________________\n",
      "max_pooling2d_1 (MaxPooling2 (None, 29, 29, 8)         0         \n",
      "_________________________________________________________________\n",
      "conv2d_2 (Conv2D)            (None, 24, 24, 16)        4624      \n",
      "_________________________________________________________________\n",
      "dropout_1 (Dropout)          (None, 24, 24, 16)        0         \n",
      "_________________________________________________________________\n",
      "max_pooling2d_2 (MaxPooling2 (None, 6, 6, 16)          0         \n",
      "_________________________________________________________________\n",
      "dense_1 (Dense)              (None, 6, 6, 128)         2176      \n",
      "_________________________________________________________________\n",
      "flatten_1 (Flatten)          (None, 4608)              0         \n",
      "_________________________________________________________________\n",
      "dense_2 (Dense)              (None, 3)                 13827     \n",
      "=================================================================\n",
      "Total params: 21,499\n",
      "Trainable params: 21,499\n",
      "Non-trainable params: 0\n",
      "_________________________________________________________________\n"
     ]
    }
   ],
   "source": [
    "model.summary()"
   ]
  },
  {
   "cell_type": "code",
   "execution_count": 16,
   "metadata": {},
   "outputs": [
    {
     "name": "stdout",
     "output_type": "stream",
     "text": [
      "predictions: [[0.44077274 0.5347215  0.02450575]]\n",
      "[[0.510951 0.442604 0.046445]]\n"
     ]
    }
   ],
   "source": [
    "# Predict.\n",
    "predictions = model.predict(val_images)\n",
    "print(\"predictions: \" + str(predictions[:1]))\n",
    "\n",
    "# Print our model's predictions.\n",
    "#print(np.argmax(predictions, axis=1)) \n",
    "\n",
    "# Check our predictions against the ground truths.\n",
    "print(y_val[:1]) "
   ]
  },
  {
   "cell_type": "code",
   "execution_count": 17,
   "metadata": {},
   "outputs": [
    {
     "name": "stdout",
     "output_type": "stream",
     "text": [
      "Val loss: 0.7867188921955043\n",
      "Val accuracy: 0.5670672296200064\n"
     ]
    }
   ],
   "source": [
    "score = model.evaluate(X_val, y_val, verbose=0)\n",
    "print('Val loss:', score[0])\n",
    "print('Val accuracy:', score[1])"
   ]
  },
  {
   "cell_type": "code",
   "execution_count": 18,
   "metadata": {},
   "outputs": [
    {
     "data": {
      "image/png": "[encoded data removed]",
      "text/plain": [
       "<Figure size 576x360 with 1 Axes>"
      ]
     },
     "metadata": {
      "needs_background": "light"
     },
     "output_type": "display_data"
    }
   ],
   "source": [
    "pd.DataFrame(history.history).plot(figsize=(8, 5))\n",
    "plt.grid(True)\n",
    "plt.title('Model performance throughout training')\n",
    "plt.ylabel('Loss')\n",
    "plt.xlabel('epoch')\n",
    "plt.show()"
   ]
  }
 ],
 "metadata": {
  "kernelspec": {
   "display_name": "Python 3",
   "language": "python",
   "name": "python3"
  },
  "language_info": {
   "codemirror_mode": {
    "name": "ipython",
    "version": 3
   },
   "file_extension": ".py",
   "mimetype": "text/x-python",
   "name": "python",
   "nbconvert_exporter": "python",
   "pygments_lexer": "ipython3",
   "version": "3.7.3"
  }
 },
 "nbformat": 4,
 "nbformat_minor": 2
}
