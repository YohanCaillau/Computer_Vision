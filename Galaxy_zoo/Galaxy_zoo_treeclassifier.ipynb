{
 "cells": [
  {
   "cell_type": "code",
   "execution_count": 1,
   "metadata": {
    "ExecuteTime": {
     "end_time": "2020-01-15T09:02:23.842868Z",
     "start_time": "2020-01-15T09:02:11.503864Z"
    }
   },
   "outputs": [],
   "source": [
    "import pandas as pd\n",
    "import matplotlib.image as mpimg\n",
    "import matplotlib.pyplot as plt\n",
    "%matplotlib inline\n",
    "import numpy as np\n",
    "import cv2\n",
    "import glob\n",
    "import os\n",
    "from sklearn.model_selection import train_test_split\n",
    "from sklearn import metrics\n",
    "from sklearn.tree import DecisionTreeClassifier\n",
    "from sklearn.ensemble import RandomForestClassifier\n",
    "from sklearn.metrics import confusion_matrix\n",
    "from sklearn.metrics import accuracy_score\n",
    "from xgboost import XGBClassifier\n",
    "import seaborn as sns"
   ]
  },
  {
   "cell_type": "markdown",
   "metadata": {},
   "source": [
    "# Importation des images"
   ]
  },
  {
   "cell_type": "markdown",
   "metadata": {},
   "source": [
    "## Création d'une fonction pour loader les images"
   ]
  },
  {
   "cell_type": "code",
   "execution_count": 2,
   "metadata": {
    "ExecuteTime": {
     "end_time": "2020-01-15T09:02:27.005555Z",
     "start_time": "2020-01-15T09:02:26.996555Z"
    }
   },
   "outputs": [],
   "source": [
    "import os\n",
    "import numpy as np\n",
    "\n",
    "# defining global variable path\n",
    "image_path = \"./images_training_rev1/new_images/\"\n",
    "\n",
    "#function to load folder into arrays and then it returns that same array'''\n",
    "def loadImages(path):\n",
    "    # Put files into lists and return them as one list of size 4\n",
    "    image_files = sorted([os.path.join(path, file)\n",
    "         for file in os.listdir(path) if file.endswith('.jpg')])\n",
    " \n",
    "    return image_files"
   ]
  },
  {
   "cell_type": "code",
   "execution_count": 3,
   "metadata": {
    "ExecuteTime": {
     "end_time": "2020-01-15T09:02:30.496561Z",
     "start_time": "2020-01-15T09:02:29.371556Z"
    }
   },
   "outputs": [],
   "source": [
    "data_img = loadImages(image_path)"
   ]
  },
  {
   "cell_type": "code",
   "execution_count": 4,
   "metadata": {
    "ExecuteTime": {
     "end_time": "2020-01-15T09:03:31.738939Z",
     "start_time": "2020-01-15T09:02:32.863080Z"
    }
   },
   "outputs": [
    {
     "name": "stdout",
     "output_type": "stream",
     "text": [
      "(64, 64, 3)\n"
     ]
    }
   ],
   "source": [
    "img = [cv2.imread(i, cv2.IMREAD_UNCHANGED) for i in data_img]\n",
    "print(img[0].shape)"
   ]
  },
  {
   "cell_type": "code",
   "execution_count": 5,
   "metadata": {
    "ExecuteTime": {
     "end_time": "2020-01-15T09:03:34.899251Z",
     "start_time": "2020-01-15T09:03:33.843276Z"
    }
   },
   "outputs": [],
   "source": [
    "img = np.asarray(img)"
   ]
  },
  {
   "cell_type": "markdown",
   "metadata": {},
   "source": [
    "## Récupération des outputs correspondants aux images chargées"
   ]
  },
  {
   "cell_type": "code",
   "execution_count": 6,
   "metadata": {
    "ExecuteTime": {
     "end_time": "2020-01-15T09:03:39.614754Z",
     "start_time": "2020-01-15T09:03:39.483742Z"
    }
   },
   "outputs": [],
   "source": [
    "data = pd.read_csv('class1_df.csv', index_col=0)"
   ]
  },
  {
   "cell_type": "markdown",
   "metadata": {},
   "source": [
    "## Aperçu des classes de galaxies"
   ]
  },
  {
   "cell_type": "code",
   "execution_count": 7,
   "metadata": {
    "ExecuteTime": {
     "end_time": "2020-01-15T09:03:41.014949Z",
     "start_time": "2020-01-15T09:03:40.987950Z"
    }
   },
   "outputs": [
    {
     "data": {
      "text/plain": [
       "Class1.1    26634.078867\n",
       "Class1.2    33391.365339\n",
       "Class1.3     1552.555731\n",
       "dtype: float64"
      ]
     },
     "execution_count": 7,
     "metadata": {},
     "output_type": "execute_result"
    }
   ],
   "source": [
    "data.sum()"
   ]
  },
  {
   "cell_type": "markdown",
   "metadata": {},
   "source": [
    "# Séparation des données en ensembles d'entraînement et de validation"
   ]
  },
  {
   "cell_type": "code",
   "execution_count": 8,
   "metadata": {
    "ExecuteTime": {
     "end_time": "2020-01-15T09:03:44.735542Z",
     "start_time": "2020-01-15T09:03:43.491548Z"
    }
   },
   "outputs": [
    {
     "name": "stdout",
     "output_type": "stream",
     "text": [
      "(49262, 64, 64, 3)\n",
      "(49262, 3)\n"
     ]
    }
   ],
   "source": [
    "X_train, X_val, y_train, y_val = train_test_split(img, data, test_size=.2, random_state=15)\n",
    "print(X_train.shape)\n",
    "print(y_train.shape)"
   ]
  },
  {
   "cell_type": "code",
   "execution_count": 9,
   "metadata": {
    "ExecuteTime": {
     "end_time": "2020-01-15T09:03:46.459268Z",
     "start_time": "2020-01-15T09:03:46.451267Z"
    }
   },
   "outputs": [],
   "source": [
    "X_train = X_train.reshape((X_train.shape[0], X_train.shape[1]*X_train.shape[2]*X_train.shape[3]))\n",
    "X_val = X_val.reshape((X_val.shape[0], X_val.shape[1]*X_val.shape[2]*X_val.shape[3]))"
   ]
  },
  {
   "cell_type": "code",
   "execution_count": 10,
   "metadata": {
    "ExecuteTime": {
     "end_time": "2020-01-15T09:03:47.916987Z",
     "start_time": "2020-01-15T09:03:47.907986Z"
    }
   },
   "outputs": [
    {
     "name": "stdout",
     "output_type": "stream",
     "text": [
      "(49262, 12288)\n",
      "(12316, 12288)\n",
      "(49262, 3)\n",
      "(12316, 3)\n"
     ]
    }
   ],
   "source": [
    "print(X_train.shape)\n",
    "print(X_val.shape)\n",
    "print(y_train.shape)\n",
    "print(y_val.shape)"
   ]
  },
  {
   "cell_type": "code",
   "execution_count": 11,
   "metadata": {
    "ExecuteTime": {
     "end_time": "2020-01-15T09:03:50.644605Z",
     "start_time": "2020-01-15T09:03:50.637603Z"
    }
   },
   "outputs": [],
   "source": [
    "y_train_array = np.asarray(y_train)\n",
    "y_val_array = np.asarray(y_val)"
   ]
  },
  {
   "cell_type": "code",
   "execution_count": 12,
   "metadata": {
    "ExecuteTime": {
     "end_time": "2020-01-15T09:03:52.076054Z",
     "start_time": "2020-01-15T09:03:52.067053Z"
    }
   },
   "outputs": [],
   "source": [
    "y_train = y_train_array.argmax(axis=1)\n",
    "y_val = y_val_array.argmax(axis=1)"
   ]
  },
  {
   "cell_type": "markdown",
   "metadata": {},
   "source": [
    "# Création d'un modèle type arbre de décision"
   ]
  },
  {
   "cell_type": "code",
   "execution_count": 13,
   "metadata": {
    "ExecuteTime": {
     "end_time": "2020-01-15T09:37:25.949858Z",
     "start_time": "2020-01-15T09:03:54.804541Z"
    }
   },
   "outputs": [
    {
     "data": {
      "text/plain": [
       "DecisionTreeClassifier(class_weight=None, criterion='gini', max_depth=None,\n",
       "                       max_features=None, max_leaf_nodes=None,\n",
       "                       min_impurity_decrease=0.0, min_impurity_split=None,\n",
       "                       min_samples_leaf=1, min_samples_split=2,\n",
       "                       min_weight_fraction_leaf=0.0, presort=False,\n",
       "                       random_state=None, splitter='best')"
      ]
     },
     "execution_count": 13,
     "metadata": {},
     "output_type": "execute_result"
    }
   ],
   "source": [
    "model = DecisionTreeClassifier()\n",
    "model.fit(X_train, y_train)"
   ]
  },
  {
   "cell_type": "code",
   "execution_count": 14,
   "metadata": {
    "ExecuteTime": {
     "end_time": "2020-01-15T13:37:13.924356Z",
     "start_time": "2020-01-15T13:37:12.037356Z"
    }
   },
   "outputs": [],
   "source": [
    "y_predict = model.predict(X_val)"
   ]
  },
  {
   "cell_type": "code",
   "execution_count": 15,
   "metadata": {
    "ExecuteTime": {
     "end_time": "2020-01-15T13:37:16.471397Z",
     "start_time": "2020-01-15T13:37:15.951396Z"
    }
   },
   "outputs": [
    {
     "name": "stdout",
     "output_type": "stream",
     "text": [
      "[[3555 1907    5]\n",
      " [1732 5105    6]\n",
      " [   4    2    0]]\n"
     ]
    },
    {
     "data": {
      "image/png": "[encoded data removed]",
      "text/plain": [
       "<Figure size 432x288 with 1 Axes>"
      ]
     },
     "metadata": {
      "needs_background": "light"
     },
     "output_type": "display_data"
    }
   ],
   "source": [
    "conf_matrix = metrics.confusion_matrix(y_predict, y_val)\n",
    "print(conf_matrix)\n",
    "plt.imshow(conf_matrix, cmap='binary');"
   ]
  },
  {
   "cell_type": "code",
   "execution_count": 16,
   "metadata": {
    "ExecuteTime": {
     "end_time": "2020-01-15T13:37:19.303256Z",
     "start_time": "2020-01-15T13:37:18.254237Z"
    }
   },
   "outputs": [
    {
     "name": "stdout",
     "output_type": "stream",
     "text": [
      "[1 1 0 ... 1 0 0]\n",
      "[1 1 1 ... 0 1 0]\n"
     ]
    }
   ],
   "source": [
    "# Predict.\n",
    "predictions = model.predict(X_val)\n",
    "\n",
    "# Print our model's predictions.\n",
    "print(predictions)\n",
    "\n",
    "# Check our predictions against the ground truths.\n",
    "print(y_val) "
   ]
  },
  {
   "cell_type": "code",
   "execution_count": 17,
   "metadata": {
    "ExecuteTime": {
     "end_time": "2020-01-15T13:37:22.778025Z",
     "start_time": "2020-01-15T13:37:22.093394Z"
    }
   },
   "outputs": [
    {
     "data": {
      "image/png": "[encoded data removed]",
      "text/plain": [
       "<Figure size 1440x1080 with 2 Axes>"
      ]
     },
     "metadata": {
      "needs_background": "light"
     },
     "output_type": "display_data"
    },
    {
     "name": "stdout",
     "output_type": "stream",
     "text": [
      "accuracy :70.3 %\n"
     ]
    }
   ],
   "source": [
    "y_train_class = y_val\n",
    "y_pred_class = predictions\n",
    "conf_mat = confusion_matrix(y_train_class, y_pred_class)\n",
    "plt.figure(figsize=(15,10))\n",
    "sns.heatmap(conf_mat,square=True, annot=True, fmt='.0f')\n",
    "plt.show()\n",
    "print(\"accuracy :\" + str((accuracy_score(y_train_class, y_pred_class).round(3))*100)+\" %\")"
   ]
  },
  {
   "cell_type": "code",
   "execution_count": 18,
   "metadata": {
    "ExecuteTime": {
     "end_time": "2020-01-15T13:37:36.093098Z",
     "start_time": "2020-01-15T13:37:36.085097Z"
    }
   },
   "outputs": [
    {
     "name": "stdout",
     "output_type": "stream",
     "text": [
      "70.3150373497889 %\n"
     ]
    }
   ],
   "source": [
    "print(accuracy_score(y_predict, y_val)*100, \"%\")"
   ]
  },
  {
   "cell_type": "markdown",
   "metadata": {},
   "source": [
    "# Création d'un modèle type ensemble"
   ]
  },
  {
   "cell_type": "code",
   "execution_count": 19,
   "metadata": {
    "ExecuteTime": {
     "end_time": "2020-01-15T13:39:22.598605Z",
     "start_time": "2020-01-15T13:37:37.949655Z"
    }
   },
   "outputs": [
    {
     "name": "stderr",
     "output_type": "stream",
     "text": [
      "C:\\Users\\utilisateur\\Anaconda3\\envs\\computer_vision\\lib\\site-packages\\sklearn\\ensemble\\forest.py:245: FutureWarning: The default value of n_estimators will change from 10 in version 0.20 to 100 in 0.22.\n",
      "  \"10 in version 0.20 to 100 in 0.22.\", FutureWarning)\n"
     ]
    },
    {
     "data": {
      "text/plain": [
       "RandomForestClassifier(bootstrap=True, class_weight=None, criterion='gini',\n",
       "                       max_depth=None, max_features='auto', max_leaf_nodes=None,\n",
       "                       min_impurity_decrease=0.0, min_impurity_split=None,\n",
       "                       min_samples_leaf=1, min_samples_split=2,\n",
       "                       min_weight_fraction_leaf=0.0, n_estimators=10,\n",
       "                       n_jobs=None, oob_score=False, random_state=None,\n",
       "                       verbose=0, warm_start=False)"
      ]
     },
     "execution_count": 19,
     "metadata": {},
     "output_type": "execute_result"
    }
   ],
   "source": [
    "model = RandomForestClassifier()\n",
    "model.fit(X_train, y_train)"
   ]
  },
  {
   "cell_type": "code",
   "execution_count": 20,
   "metadata": {
    "ExecuteTime": {
     "end_time": "2020-01-15T13:39:23.836605Z",
     "start_time": "2020-01-15T13:39:22.602581Z"
    }
   },
   "outputs": [],
   "source": [
    "y_predict = model.predict(X_val)"
   ]
  },
  {
   "cell_type": "code",
   "execution_count": 21,
   "metadata": {
    "ExecuteTime": {
     "end_time": "2020-01-15T13:39:24.179605Z",
     "start_time": "2020-01-15T13:39:23.840580Z"
    }
   },
   "outputs": [
    {
     "name": "stdout",
     "output_type": "stream",
     "text": [
      "[[4007 1608    5]\n",
      " [1284 5406    6]\n",
      " [   0    0    0]]\n"
     ]
    },
    {
     "data": {
      "image/png": "[encoded data removed]",
      "text/plain": [
       "<Figure size 432x288 with 1 Axes>"
      ]
     },
     "metadata": {
      "needs_background": "light"
     },
     "output_type": "display_data"
    }
   ],
   "source": [
    "conf_matrix = metrics.confusion_matrix(y_predict, y_val)\n",
    "print(conf_matrix)\n",
    "plt.imshow(conf_matrix, cmap='binary');"
   ]
  },
  {
   "cell_type": "code",
   "execution_count": 22,
   "metadata": {
    "ExecuteTime": {
     "end_time": "2020-01-15T13:39:24.192605Z",
     "start_time": "2020-01-15T13:39:24.183581Z"
    },
    "scrolled": true
   },
   "outputs": [
    {
     "name": "stdout",
     "output_type": "stream",
     "text": [
      "76.42903540110424 %\n"
     ]
    }
   ],
   "source": [
    "print(accuracy_score(y_predict, y_val)*100, \"%\")"
   ]
  },
  {
   "cell_type": "markdown",
   "metadata": {},
   "source": [
    "# Création d'un modèle type arbres de décision - méthode boosting"
   ]
  },
  {
   "cell_type": "code",
   "execution_count": null,
   "metadata": {
    "ExecuteTime": {
     "start_time": "2020-01-15T13:38:41.985Z"
    }
   },
   "outputs": [],
   "source": [
    "model = XGBClassifier()\n",
    "model.fit(X_train, y_train)"
   ]
  },
  {
   "cell_type": "code",
   "execution_count": null,
   "metadata": {
    "ExecuteTime": {
     "start_time": "2020-01-15T13:38:42.177Z"
    }
   },
   "outputs": [],
   "source": [
    "y_predict = model.predict(X_val)"
   ]
  },
  {
   "cell_type": "code",
   "execution_count": null,
   "metadata": {
    "ExecuteTime": {
     "start_time": "2020-01-15T13:38:42.377Z"
    }
   },
   "outputs": [],
   "source": [
    "conf_matrix = metrics.confusion_matrix(y_predict, y_val)\n",
    "print(conf_matrix)\n",
    "plt.imshow(conf_matrix, cmap='binary');"
   ]
  },
  {
   "cell_type": "code",
   "execution_count": null,
   "metadata": {
    "ExecuteTime": {
     "start_time": "2020-01-15T13:38:43.049Z"
    },
    "scrolled": true
   },
   "outputs": [],
   "source": [
    "print(accuracy_score(y_predict, y_val)*100, \"%\")"
   ]
  },
  {
   "cell_type": "markdown",
   "metadata": {},
   "source": [
    "# Conclusions"
   ]
  },
  {
   "cell_type": "markdown",
   "metadata": {},
   "source": [
    "Performances obtenues :\n",
    "- arbre de décision -> 70,3% \n",
    "- random forest -----> 76,42% \n",
    "- boosting ------------> "
   ]
  }
 ],
 "metadata": {
  "kernelspec": {
   "display_name": "Python 3",
   "language": "python",
   "name": "python3"
  },
  "language_info": {
   "codemirror_mode": {
    "name": "ipython",
    "version": 3
   },
   "file_extension": ".py",
   "mimetype": "text/x-python",
   "name": "python",
   "nbconvert_exporter": "python",
   "pygments_lexer": "ipython3",
   "version": "3.7.5"
  },
  "toc": {
   "base_numbering": 1,
   "nav_menu": {},
   "number_sections": true,
   "sideBar": true,
   "skip_h1_title": false,
   "title_cell": "Table of Contents",
   "title_sidebar": "Contents",
   "toc_cell": false,
   "toc_position": {},
   "toc_section_display": true,
   "toc_window_display": true
  }
 },
 "nbformat": 4,
 "nbformat_minor": 2
}
