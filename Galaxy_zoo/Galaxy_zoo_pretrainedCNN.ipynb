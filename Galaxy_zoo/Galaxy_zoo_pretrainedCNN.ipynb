{
 "cells": [
  {
   "cell_type": "code",
   "execution_count": null,
   "metadata": {
    "ExecuteTime": {
     "end_time": "2020-01-13T15:09:23.704420Z",
     "start_time": "2020-01-13T15:09:23.421406Z"
    }
   },
   "outputs": [],
   "source": [
    "import os\n",
    "import numpy as np\n",
    "\n",
    "# defining global variable path\n",
    "image_path = \"./images_training_rev1/new_images/\"\n",
    "\n",
    "#function to load folder into arrays and then it returns that same array'''\n",
    "def loadImages(path):\n",
    "    # Put files into lists and return them as one list of size 4\n",
    "    image_files = sorted([os.path.join(path, file)\n",
    "         for file in os.listdir(path) if file.endswith('.jpg')])\n",
    " \n",
    "    return image_files"
   ]
  },
  {
   "cell_type": "code",
   "execution_count": null,
   "metadata": {
    "ExecuteTime": {
     "end_time": "2020-01-13T15:09:26.521842Z",
     "start_time": "2020-01-13T15:09:25.970842Z"
    }
   },
   "outputs": [],
   "source": [
    "data_img = loadImages(image_path)"
   ]
  },
  {
   "cell_type": "code",
   "execution_count": null,
   "metadata": {
    "ExecuteTime": {
     "end_time": "2020-01-13T15:18:18.269869Z",
     "start_time": "2020-01-13T15:09:45.298303Z"
    }
   },
   "outputs": [],
   "source": [
    "import cv2\n",
    "img = [cv2.imread(i, cv2.IMREAD_UNCHANGED) for i in data_img]\n",
    "print(img[0].shape)"
   ]
  },
  {
   "cell_type": "code",
   "execution_count": null,
   "metadata": {
    "ExecuteTime": {
     "end_time": "2020-01-13T15:19:06.792499Z",
     "start_time": "2020-01-13T15:19:05.640469Z"
    }
   },
   "outputs": [],
   "source": [
    "img = np.asarray(img)"
   ]
  },
  {
   "cell_type": "code",
   "execution_count": null,
   "metadata": {
    "ExecuteTime": {
     "end_time": "2020-01-13T15:19:20.117375Z",
     "start_time": "2020-01-13T15:19:14.484991Z"
    }
   },
   "outputs": [],
   "source": [
    "import pandas as pd\n",
    "data = pd.read_csv('class1_df.csv', index_col=0)"
   ]
  },
  {
   "cell_type": "code",
   "execution_count": null,
   "metadata": {
    "ExecuteTime": {
     "end_time": "2020-01-13T15:19:28.673271Z",
     "start_time": "2020-01-13T15:19:24.212579Z"
    }
   },
   "outputs": [],
   "source": [
    "import numpy as np\n",
    "from sklearn.model_selection import train_test_split\n",
    "\n",
    "X_train, X_val, y_train, y_val = train_test_split(img, data, test_size=.2, random_state=15)\n",
    "print(X_train.shape)\n",
    "print(y_train.shape)"
   ]
  },
  {
   "cell_type": "code",
   "execution_count": null,
   "metadata": {
    "ExecuteTime": {
     "end_time": "2020-01-13T16:09:35.787336Z",
     "start_time": "2020-01-13T15:20:53.650058Z"
    },
    "scrolled": true
   },
   "outputs": [],
   "source": [
    "from keras.applications import VGG16\n",
    "import tensorflow as tf\n",
    "from keras.models import Sequential\n",
    "from keras.layers import Activation, Dropout, Flatten, Dense, BatchNormalization, GlobalMaxPooling2D, Conv2D, MaxPooling2D\n",
    "\n",
    "seed = 7\n",
    "np.random.seed(seed)\n",
    "tf.set_random_seed(seed)\n",
    "\n",
    "# ignore Warning\n",
    "import warnings\n",
    "warnings.filterwarnings(\"ignore\")\n",
    "\n",
    "pretrained_model =VGG16(include_top=False, input_shape=(64, 64, 3), weights='imagenet')\n",
    "for layer in pretrained_model.layers:\n",
    "    layer.trainable = False\n",
    "\n",
    "model = Sequential()\n",
    "for i in range(11):\n",
    "    model.add(pretrained_model.layers[i])\n",
    "    \n",
    "pretrained_model = model\n",
    "\n",
    "X_train_pretrained_features = pretrained_model.predict(X_train)\n",
    "X_val_pretrained_features = pretrained_model.predict(X_val)"
   ]
  },
  {
   "cell_type": "code",
   "execution_count": null,
   "metadata": {
    "ExecuteTime": {
     "end_time": "2020-01-13T16:09:35.842307Z",
     "start_time": "2020-01-13T16:09:35.806336Z"
    }
   },
   "outputs": [],
   "source": [
    "model.summary()"
   ]
  },
  {
   "cell_type": "code",
   "execution_count": null,
   "metadata": {
    "ExecuteTime": {
     "end_time": "2020-01-13T16:09:35.876336Z",
     "start_time": "2020-01-13T16:09:35.846313Z"
    }
   },
   "outputs": [],
   "source": [
    "X_train_pretrained_features.shape[1:]"
   ]
  },
  {
   "cell_type": "code",
   "execution_count": null,
   "metadata": {
    "ExecuteTime": {
     "end_time": "2020-01-13T16:10:34.480410Z",
     "start_time": "2020-01-13T16:10:34.348386Z"
    }
   },
   "outputs": [],
   "source": [
    "import keras\n",
    "from keras.optimizers import SGD, Adamax, Adadelta, Adam, Nadam \n",
    "\n",
    "seed = 7\n",
    "np.random.seed(seed)\n",
    "tf.set_random_seed(seed)\n",
    "\n",
    "model = Sequential()\n",
    "model.add(Conv2D(filters=8, kernel_size=(3,3),input_shape=X_train_pretrained_features.shape[1:],activation='relu'))\n",
    "model.add(MaxPooling2D(pool_size=(2,2)))\n",
    "model.add(Flatten())\n",
    "model.add(Dense(3, activation='softmax'))"
   ]
  },
  {
   "cell_type": "code",
   "execution_count": null,
   "metadata": {
    "ExecuteTime": {
     "end_time": "2020-01-13T16:29:51.649219Z",
     "start_time": "2020-01-13T16:28:48.268794Z"
    }
   },
   "outputs": [],
   "source": [
    "loss = 'categorical_crossentropy'\n",
    "LEARNING_RATE = 0.001\n",
    "EPOCHS = 100\n",
    "\n",
    "model.compile(loss=loss,\n",
    "               optimizer=Adamax(lr=LEARNING_RATE), # SGD(lr=LEARNING_RATE)\n",
    "               metrics=['accuracy'])\n",
    "\n",
    "history = model.fit(X_train_pretrained_features,\n",
    "                     y_train,\n",
    "                     epochs=EPOCHS,\n",
    "                     validation_data=(X_val_pretrained_features, y_val),\n",
    "                     batch_size=X_train_pretrained_features.shape[1]\n",
    "                     )"
   ]
  },
  {
   "cell_type": "code",
   "execution_count": null,
   "metadata": {
    "ExecuteTime": {
     "end_time": "2020-01-13T16:09:36.561311Z",
     "start_time": "2020-01-13T15:47:58.224Z"
    }
   },
   "outputs": [],
   "source": [
    "model.summary()"
   ]
  },
  {
   "cell_type": "code",
   "execution_count": null,
   "metadata": {
    "ExecuteTime": {
     "end_time": "2020-01-13T16:09:36.564311Z",
     "start_time": "2020-01-13T15:47:59.535Z"
    }
   },
   "outputs": [],
   "source": [
    "pd.DataFrame(history.history).plot(figsize=(8, 5))\n",
    "plt.grid(True)\n",
    "plt.title('Model performance throughout training')\n",
    "plt.ylabel('Loss')\n",
    "plt.xlabel('epoch')\n",
    "plt.show()"
   ]
  },
  {
   "cell_type": "code",
   "execution_count": null,
   "metadata": {
    "ExecuteTime": {
     "end_time": "2020-01-13T16:09:36.566309Z",
     "start_time": "2020-01-13T15:47:59.951Z"
    }
   },
   "outputs": [],
   "source": [
    "# Predict.\n",
    "predictions = model.predict(X_val)\n",
    "# Print our model's predictions.\n",
    "print(\"predictions: \" + str(predictions[:1]))\n",
    "\n",
    "# Check our predictions against the ground truths.\n",
    "print(y_val[:1]) "
   ]
  },
  {
   "cell_type": "code",
   "execution_count": null,
   "metadata": {
    "ExecuteTime": {
     "end_time": "2020-01-13T16:09:36.568311Z",
     "start_time": "2020-01-13T15:48:00.399Z"
    }
   },
   "outputs": [],
   "source": [
    "score = model.evaluate(X_val, y_val, verbose=0)\n",
    "print('Val loss:', score[0])\n",
    "print('Val accuracy:', score[1])"
   ]
  },
  {
   "cell_type": "code",
   "execution_count": null,
   "metadata": {
    "ExecuteTime": {
     "end_time": "2020-01-13T16:09:36.571310Z",
     "start_time": "2020-01-13T15:48:01.175Z"
    }
   },
   "outputs": [],
   "source": [
    "pd.DataFrame(history.history).plot(figsize=(8, 5))\n",
    "plt.grid(True)\n",
    "plt.title('Model performance throughout training')\n",
    "plt.ylabel('Loss')\n",
    "plt.xlabel('epoch')\n",
    "plt.show()"
   ]
  },
  {
   "cell_type": "code",
   "execution_count": null,
   "metadata": {
    "ExecuteTime": {
     "end_time": "2020-01-13T16:09:36.573310Z",
     "start_time": "2020-01-13T15:48:01.487Z"
    }
   },
   "outputs": [],
   "source": [
    "from sklearn.metrics import confusion_matrix\n",
    "import seaborn as sns\n",
    "from sklearn.metrics import accuracy_score\n",
    "\n",
    "y_train_class = y_test.argmax(axis=1)\n",
    "y_pred_class = predictions.argmax(axis=1)\n",
    "conf_mat = confusion_matrix(y_train_class, y_pred_class)\n",
    "plt.figure(figsize=(15,10))\n",
    "sns.heatmap(conf_mat,square=True, annot=True, fmt='.0f')\n",
    "plt.show()\n",
    "print(\"accuracy :\" + str((accuracy_score(y_train_class, y_pred_class).round(3))*100)+\" %\")"
   ]
  }
 ],
 "metadata": {
  "kernelspec": {
   "display_name": "Python 3",
   "language": "python",
   "name": "python3"
  },
  "language_info": {
   "codemirror_mode": {
    "name": "ipython",
    "version": 3
   },
   "file_extension": ".py",
   "mimetype": "text/x-python",
   "name": "python",
   "nbconvert_exporter": "python",
   "pygments_lexer": "ipython3",
   "version": "3.7.4"
  }
 },
 "nbformat": 4,
 "nbformat_minor": 2
}
