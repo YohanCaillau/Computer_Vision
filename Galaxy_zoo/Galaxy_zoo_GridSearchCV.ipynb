{
 "cells": [
  {
   "cell_type": "code",
   "execution_count": 1,
   "metadata": {
    "ExecuteTime": {
     "end_time": "2020-01-14T12:07:01.459993Z",
     "start_time": "2020-01-14T12:07:00.632995Z"
    }
   },
   "outputs": [],
   "source": [
    "import os\n",
    "import numpy as np\n",
    "\n",
    "# defining global variable path\n",
    "image_path = \"./images_training_rev1/new_images/\"\n",
    "\n",
    "#function to load folder into arrays and then it returns that same array'''\n",
    "def loadImages(path):\n",
    "    # Put files into lists and return them as one list of size 4\n",
    "    image_files = sorted([os.path.join(path, file)\n",
    "         for file in os.listdir(path) if file.endswith('.jpg')])\n",
    " \n",
    "    return image_files"
   ]
  },
  {
   "cell_type": "code",
   "execution_count": 2,
   "metadata": {
    "ExecuteTime": {
     "end_time": "2020-01-14T12:07:02.554403Z",
     "start_time": "2020-01-14T12:07:01.463983Z"
    }
   },
   "outputs": [],
   "source": [
    "data_img = loadImages(image_path)"
   ]
  },
  {
   "cell_type": "code",
   "execution_count": 3,
   "metadata": {
    "ExecuteTime": {
     "end_time": "2020-01-14T12:07:03.727389Z",
     "start_time": "2020-01-14T12:07:02.558388Z"
    }
   },
   "outputs": [
    {
     "name": "stdout",
     "output_type": "stream",
     "text": [
      "(64, 64, 3)\n"
     ]
    }
   ],
   "source": [
    "import cv2\n",
    "img = [cv2.imread(i, cv2.IMREAD_UNCHANGED) for i in data_img[:500]]\n",
    "print(img[0].shape)"
   ]
  },
  {
   "cell_type": "code",
   "execution_count": 4,
   "metadata": {
    "ExecuteTime": {
     "end_time": "2020-01-14T12:07:03.754393Z",
     "start_time": "2020-01-14T12:07:03.732389Z"
    }
   },
   "outputs": [],
   "source": [
    "img = np.asarray(img)"
   ]
  },
  {
   "cell_type": "code",
   "execution_count": 5,
   "metadata": {
    "ExecuteTime": {
     "end_time": "2020-01-14T12:07:10.033209Z",
     "start_time": "2020-01-14T12:07:03.759396Z"
    }
   },
   "outputs": [],
   "source": [
    "import pandas as pd\n",
    "data = pd.read_csv('class1_df.csv', index_col=0)\n",
    "data = data[:500]"
   ]
  },
  {
   "cell_type": "code",
   "execution_count": 6,
   "metadata": {
    "ExecuteTime": {
     "end_time": "2020-01-14T12:07:13.470390Z",
     "start_time": "2020-01-14T12:07:10.036194Z"
    }
   },
   "outputs": [
    {
     "name": "stdout",
     "output_type": "stream",
     "text": [
      "(400, 64, 64, 3)\n",
      "(400, 3)\n"
     ]
    }
   ],
   "source": [
    "import numpy as np\n",
    "from sklearn.model_selection import train_test_split\n",
    "\n",
    "X_train, X_val, y_train, y_val = train_test_split(img, data, test_size=.2, random_state=15)\n",
    "print(X_train.shape)\n",
    "print(y_train.shape)"
   ]
  },
  {
   "cell_type": "code",
   "execution_count": 7,
   "metadata": {
    "ExecuteTime": {
     "end_time": "2020-01-14T20:10:30.267950Z",
     "start_time": "2020-01-14T12:07:13.475363Z"
    }
   },
   "outputs": [
    {
     "name": "stderr",
     "output_type": "stream",
     "text": [
      "Using TensorFlow backend.\n"
     ]
    },
    {
     "name": "stdout",
     "output_type": "stream",
     "text": [
      "WARNING:tensorflow:From C:\\Users\\utilisateur\\Anaconda3\\envs\\computer_vision\\lib\\site-packages\\keras\\backend\\tensorflow_backend.py:74: The name tf.get_default_graph is deprecated. Please use tf.compat.v1.get_default_graph instead.\n",
      "\n",
      "WARNING:tensorflow:From C:\\Users\\utilisateur\\Anaconda3\\envs\\computer_vision\\lib\\site-packages\\keras\\backend\\tensorflow_backend.py:517: The name tf.placeholder is deprecated. Please use tf.compat.v1.placeholder instead.\n",
      "\n",
      "WARNING:tensorflow:From C:\\Users\\utilisateur\\Anaconda3\\envs\\computer_vision\\lib\\site-packages\\keras\\backend\\tensorflow_backend.py:4138: The name tf.random_uniform is deprecated. Please use tf.random.uniform instead.\n",
      "\n",
      "WARNING:tensorflow:From C:\\Users\\utilisateur\\Anaconda3\\envs\\computer_vision\\lib\\site-packages\\keras\\backend\\tensorflow_backend.py:3976: The name tf.nn.max_pool is deprecated. Please use tf.nn.max_pool2d instead.\n",
      "\n",
      "WARNING:tensorflow:From C:\\Users\\utilisateur\\Anaconda3\\envs\\computer_vision\\lib\\site-packages\\keras\\optimizers.py:790: The name tf.train.Optimizer is deprecated. Please use tf.compat.v1.train.Optimizer instead.\n",
      "\n"
     ]
    },
    {
     "name": "stderr",
     "output_type": "stream",
     "text": [
      "C:\\Users\\utilisateur\\Anaconda3\\envs\\computer_vision\\lib\\site-packages\\sklearn\\model_selection\\_split.py:1978: FutureWarning: The default value of cv will change from 3 to 5 in version 0.22. Specify it explicitly to silence this warning.\n",
      "  warnings.warn(CV_WARNING, FutureWarning)\n"
     ]
    },
    {
     "name": "stdout",
     "output_type": "stream",
     "text": [
      "WARNING:tensorflow:From C:\\Users\\utilisateur\\Anaconda3\\envs\\computer_vision\\lib\\site-packages\\keras\\backend\\tensorflow_backend.py:3295: The name tf.log is deprecated. Please use tf.math.log instead.\n",
      "\n",
      "WARNING:tensorflow:From C:\\Users\\utilisateur\\Anaconda3\\envs\\computer_vision\\lib\\site-packages\\tensorflow_core\\python\\ops\\math_grad.py:1424: where (from tensorflow.python.ops.array_ops) is deprecated and will be removed in a future version.\n",
      "Instructions for updating:\n",
      "Use tf.where in 2.0, which has the same broadcast rule as np.where\n",
      "WARNING:tensorflow:From C:\\Users\\utilisateur\\Anaconda3\\envs\\computer_vision\\lib\\site-packages\\keras\\backend\\tensorflow_backend.py:986: The name tf.assign_add is deprecated. Please use tf.compat.v1.assign_add instead.\n",
      "\n",
      "WARNING:tensorflow:From C:\\Users\\utilisateur\\Anaconda3\\envs\\computer_vision\\lib\\site-packages\\keras\\backend\\tensorflow_backend.py:973: The name tf.assign is deprecated. Please use tf.compat.v1.assign instead.\n",
      "\n",
      "WARNING:tensorflow:From C:\\Users\\utilisateur\\Anaconda3\\envs\\computer_vision\\lib\\site-packages\\keras\\backend\\tensorflow_backend.py:2741: The name tf.Session is deprecated. Please use tf.compat.v1.Session instead.\n",
      "\n",
      "WARNING:tensorflow:From C:\\Users\\utilisateur\\Anaconda3\\envs\\computer_vision\\lib\\site-packages\\keras\\backend\\tensorflow_backend.py:174: The name tf.get_default_session is deprecated. Please use tf.compat.v1.get_default_session instead.\n",
      "\n",
      "WARNING:tensorflow:From C:\\Users\\utilisateur\\Anaconda3\\envs\\computer_vision\\lib\\site-packages\\keras\\backend\\tensorflow_backend.py:181: The name tf.ConfigProto is deprecated. Please use tf.compat.v1.ConfigProto instead.\n",
      "\n",
      "WARNING:tensorflow:From C:\\Users\\utilisateur\\Anaconda3\\envs\\computer_vision\\lib\\site-packages\\keras\\backend\\tensorflow_backend.py:190: The name tf.global_variables is deprecated. Please use tf.compat.v1.global_variables instead.\n",
      "\n",
      "WARNING:tensorflow:From C:\\Users\\utilisateur\\Anaconda3\\envs\\computer_vision\\lib\\site-packages\\keras\\backend\\tensorflow_backend.py:199: The name tf.is_variable_initialized is deprecated. Please use tf.compat.v1.is_variable_initialized instead.\n",
      "\n",
      "WARNING:tensorflow:From C:\\Users\\utilisateur\\Anaconda3\\envs\\computer_vision\\lib\\site-packages\\keras\\backend\\tensorflow_backend.py:206: The name tf.variables_initializer is deprecated. Please use tf.compat.v1.variables_initializer instead.\n",
      "\n"
     ]
    },
    {
     "name": "stderr",
     "output_type": "stream",
     "text": [
      "C:\\Users\\utilisateur\\Anaconda3\\envs\\computer_vision\\lib\\site-packages\\sklearn\\model_selection\\_search.py:814: DeprecationWarning: The default of the `iid` parameter will change from True to False in version 0.22 and will be removed in 0.24. This will change numeric results when test-set sizes are unequal.\n",
      "  DeprecationWarning)\n"
     ]
    },
    {
     "name": "stdout",
     "output_type": "stream",
     "text": [
      "Best: 0.572500 using {'activation': 'relu', 'batch_size': 64, 'epochs': 100, 'init': 'normal', 'optimizer': 'rmsprop'}\n",
      "0.225000 (0.131944) with: {'activation': 'softmax', 'batch_size': 64, 'epochs': 50, 'init': 'glorot_uniform', 'optimizer': 'rmsprop'}\n",
      "0.310000 (0.048193) with: {'activation': 'softmax', 'batch_size': 64, 'epochs': 50, 'init': 'glorot_uniform', 'optimizer': 'adamax'}\n",
      "0.380000 (0.114638) with: {'activation': 'softmax', 'batch_size': 64, 'epochs': 50, 'init': 'normal', 'optimizer': 'rmsprop'}\n",
      "0.375000 (0.081455) with: {'activation': 'softmax', 'batch_size': 64, 'epochs': 50, 'init': 'normal', 'optimizer': 'adamax'}\n",
      "0.327500 (0.221337) with: {'activation': 'softmax', 'batch_size': 64, 'epochs': 100, 'init': 'glorot_uniform', 'optimizer': 'rmsprop'}\n",
      "0.357500 (0.035738) with: {'activation': 'softmax', 'batch_size': 64, 'epochs': 100, 'init': 'glorot_uniform', 'optimizer': 'adamax'}\n",
      "0.410000 (0.027593) with: {'activation': 'softmax', 'batch_size': 64, 'epochs': 100, 'init': 'normal', 'optimizer': 'rmsprop'}\n",
      "0.345000 (0.047354) with: {'activation': 'softmax', 'batch_size': 64, 'epochs': 100, 'init': 'normal', 'optimizer': 'adamax'}\n",
      "0.460000 (0.135549) with: {'activation': 'softmax', 'batch_size': 64, 'epochs': 500, 'init': 'glorot_uniform', 'optimizer': 'rmsprop'}\n",
      "0.375000 (0.052006) with: {'activation': 'softmax', 'batch_size': 64, 'epochs': 500, 'init': 'glorot_uniform', 'optimizer': 'adamax'}\n",
      "0.312500 (0.070514) with: {'activation': 'softmax', 'batch_size': 64, 'epochs': 500, 'init': 'normal', 'optimizer': 'rmsprop'}\n",
      "0.372500 (0.059033) with: {'activation': 'softmax', 'batch_size': 64, 'epochs': 500, 'init': 'normal', 'optimizer': 'adamax'}\n",
      "0.212500 (0.274568) with: {'activation': 'softmax', 'batch_size': 400, 'epochs': 50, 'init': 'glorot_uniform', 'optimizer': 'rmsprop'}\n",
      "0.037500 (0.026768) with: {'activation': 'softmax', 'batch_size': 400, 'epochs': 50, 'init': 'glorot_uniform', 'optimizer': 'adamax'}\n",
      "0.015000 (0.006074) with: {'activation': 'softmax', 'batch_size': 400, 'epochs': 50, 'init': 'normal', 'optimizer': 'rmsprop'}\n",
      "0.025000 (0.015440) with: {'activation': 'softmax', 'batch_size': 400, 'epochs': 50, 'init': 'normal', 'optimizer': 'adamax'}\n",
      "0.045000 (0.047610) with: {'activation': 'softmax', 'batch_size': 400, 'epochs': 100, 'init': 'glorot_uniform', 'optimizer': 'rmsprop'}\n",
      "0.212500 (0.158525) with: {'activation': 'softmax', 'batch_size': 400, 'epochs': 100, 'init': 'glorot_uniform', 'optimizer': 'adamax'}\n",
      "0.135000 (0.170159) with: {'activation': 'softmax', 'batch_size': 400, 'epochs': 100, 'init': 'normal', 'optimizer': 'rmsprop'}\n",
      "0.287500 (0.037808) with: {'activation': 'softmax', 'batch_size': 400, 'epochs': 100, 'init': 'normal', 'optimizer': 'adamax'}\n",
      "0.352500 (0.091979) with: {'activation': 'softmax', 'batch_size': 400, 'epochs': 500, 'init': 'glorot_uniform', 'optimizer': 'rmsprop'}\n",
      "0.350000 (0.014433) with: {'activation': 'softmax', 'batch_size': 400, 'epochs': 500, 'init': 'glorot_uniform', 'optimizer': 'adamax'}\n",
      "0.270000 (0.036732) with: {'activation': 'softmax', 'batch_size': 400, 'epochs': 500, 'init': 'normal', 'optimizer': 'rmsprop'}\n",
      "0.367500 (0.023366) with: {'activation': 'softmax', 'batch_size': 400, 'epochs': 500, 'init': 'normal', 'optimizer': 'adamax'}\n",
      "0.437500 (0.046601) with: {'activation': 'relu', 'batch_size': 64, 'epochs': 50, 'init': 'glorot_uniform', 'optimizer': 'rmsprop'}\n",
      "0.305000 (0.200797) with: {'activation': 'relu', 'batch_size': 64, 'epochs': 50, 'init': 'glorot_uniform', 'optimizer': 'adamax'}\n",
      "0.477500 (0.137956) with: {'activation': 'relu', 'batch_size': 64, 'epochs': 50, 'init': 'normal', 'optimizer': 'rmsprop'}\n",
      "0.422500 (0.028687) with: {'activation': 'relu', 'batch_size': 64, 'epochs': 50, 'init': 'normal', 'optimizer': 'adamax'}\n",
      "0.422500 (0.068130) with: {'activation': 'relu', 'batch_size': 64, 'epochs': 100, 'init': 'glorot_uniform', 'optimizer': 'rmsprop'}\n",
      "0.392500 (0.008049) with: {'activation': 'relu', 'batch_size': 64, 'epochs': 100, 'init': 'glorot_uniform', 'optimizer': 'adamax'}\n",
      "0.572500 (0.296869) with: {'activation': 'relu', 'batch_size': 64, 'epochs': 100, 'init': 'normal', 'optimizer': 'rmsprop'}\n",
      "0.235000 (0.151680) with: {'activation': 'relu', 'batch_size': 64, 'epochs': 100, 'init': 'normal', 'optimizer': 'adamax'}\n",
      "0.397500 (0.043444) with: {'activation': 'relu', 'batch_size': 64, 'epochs': 500, 'init': 'glorot_uniform', 'optimizer': 'rmsprop'}\n",
      "0.270000 (0.180285) with: {'activation': 'relu', 'batch_size': 64, 'epochs': 500, 'init': 'glorot_uniform', 'optimizer': 'adamax'}\n",
      "0.245000 (0.160389) with: {'activation': 'relu', 'batch_size': 64, 'epochs': 500, 'init': 'normal', 'optimizer': 'rmsprop'}\n",
      "0.487500 (0.027822) with: {'activation': 'relu', 'batch_size': 64, 'epochs': 500, 'init': 'normal', 'optimizer': 'adamax'}\n",
      "0.400000 (0.112060) with: {'activation': 'relu', 'batch_size': 400, 'epochs': 50, 'init': 'glorot_uniform', 'optimizer': 'rmsprop'}\n",
      "0.395000 (0.026452) with: {'activation': 'relu', 'batch_size': 400, 'epochs': 50, 'init': 'glorot_uniform', 'optimizer': 'adamax'}\n",
      "0.337500 (0.238676) with: {'activation': 'relu', 'batch_size': 400, 'epochs': 50, 'init': 'normal', 'optimizer': 'rmsprop'}\n",
      "0.285000 (0.186417) with: {'activation': 'relu', 'batch_size': 400, 'epochs': 50, 'init': 'normal', 'optimizer': 'adamax'}\n",
      "0.390000 (0.115151) with: {'activation': 'relu', 'batch_size': 400, 'epochs': 100, 'init': 'glorot_uniform', 'optimizer': 'rmsprop'}\n",
      "0.470000 (0.029281) with: {'activation': 'relu', 'batch_size': 400, 'epochs': 100, 'init': 'glorot_uniform', 'optimizer': 'adamax'}\n",
      "0.400000 (0.071843) with: {'activation': 'relu', 'batch_size': 400, 'epochs': 100, 'init': 'normal', 'optimizer': 'rmsprop'}\n",
      "0.267500 (0.180753) with: {'activation': 'relu', 'batch_size': 400, 'epochs': 100, 'init': 'normal', 'optimizer': 'adamax'}\n",
      "0.457500 (0.078804) with: {'activation': 'relu', 'batch_size': 400, 'epochs': 500, 'init': 'glorot_uniform', 'optimizer': 'rmsprop'}\n",
      "0.282500 (0.191528) with: {'activation': 'relu', 'batch_size': 400, 'epochs': 500, 'init': 'glorot_uniform', 'optimizer': 'adamax'}\n",
      "0.412500 (0.094084) with: {'activation': 'relu', 'batch_size': 400, 'epochs': 500, 'init': 'normal', 'optimizer': 'rmsprop'}\n",
      "0.392500 (0.066840) with: {'activation': 'relu', 'batch_size': 400, 'epochs': 500, 'init': 'normal', 'optimizer': 'adamax'}\n",
      "0.550000 (0.061972) with: {'activation': 'sigmoid', 'batch_size': 64, 'epochs': 50, 'init': 'glorot_uniform', 'optimizer': 'rmsprop'}\n",
      "0.105000 (0.068891) with: {'activation': 'sigmoid', 'batch_size': 64, 'epochs': 50, 'init': 'glorot_uniform', 'optimizer': 'adamax'}\n",
      "0.300000 (0.255617) with: {'activation': 'sigmoid', 'batch_size': 64, 'epochs': 50, 'init': 'normal', 'optimizer': 'rmsprop'}\n",
      "0.037500 (0.016292) with: {'activation': 'sigmoid', 'batch_size': 64, 'epochs': 50, 'init': 'normal', 'optimizer': 'adamax'}\n",
      "0.360000 (0.213417) with: {'activation': 'sigmoid', 'batch_size': 64, 'epochs': 100, 'init': 'glorot_uniform', 'optimizer': 'rmsprop'}\n",
      "0.417500 (0.081220) with: {'activation': 'sigmoid', 'batch_size': 64, 'epochs': 100, 'init': 'glorot_uniform', 'optimizer': 'adamax'}\n",
      "0.297500 (0.132309) with: {'activation': 'sigmoid', 'batch_size': 64, 'epochs': 100, 'init': 'normal', 'optimizer': 'rmsprop'}\n",
      "0.332500 (0.038654) with: {'activation': 'sigmoid', 'batch_size': 64, 'epochs': 100, 'init': 'normal', 'optimizer': 'adamax'}\n",
      "0.435000 (0.041517) with: {'activation': 'sigmoid', 'batch_size': 64, 'epochs': 500, 'init': 'glorot_uniform', 'optimizer': 'rmsprop'}\n",
      "0.392500 (0.028792) with: {'activation': 'sigmoid', 'batch_size': 64, 'epochs': 500, 'init': 'glorot_uniform', 'optimizer': 'adamax'}\n",
      "0.360000 (0.082812) with: {'activation': 'sigmoid', 'batch_size': 64, 'epochs': 500, 'init': 'normal', 'optimizer': 'rmsprop'}\n",
      "0.397500 (0.026713) with: {'activation': 'sigmoid', 'batch_size': 64, 'epochs': 500, 'init': 'normal', 'optimizer': 'adamax'}\n",
      "0.485000 (0.399416) with: {'activation': 'sigmoid', 'batch_size': 400, 'epochs': 50, 'init': 'glorot_uniform', 'optimizer': 'rmsprop'}\n",
      "0.015000 (0.006074) with: {'activation': 'sigmoid', 'batch_size': 400, 'epochs': 50, 'init': 'glorot_uniform', 'optimizer': 'adamax'}\n",
      "0.297500 (0.400338) with: {'activation': 'sigmoid', 'batch_size': 400, 'epochs': 50, 'init': 'normal', 'optimizer': 'rmsprop'}\n",
      "0.015000 (0.006074) with: {'activation': 'sigmoid', 'batch_size': 400, 'epochs': 50, 'init': 'normal', 'optimizer': 'adamax'}\n",
      "0.127500 (0.111715) with: {'activation': 'sigmoid', 'batch_size': 400, 'epochs': 100, 'init': 'glorot_uniform', 'optimizer': 'rmsprop'}\n",
      "0.015000 (0.006074) with: {'activation': 'sigmoid', 'batch_size': 400, 'epochs': 100, 'init': 'glorot_uniform', 'optimizer': 'adamax'}\n",
      "0.175000 (0.226807) with: {'activation': 'sigmoid', 'batch_size': 400, 'epochs': 100, 'init': 'normal', 'optimizer': 'rmsprop'}\n",
      "0.067500 (0.036926) with: {'activation': 'sigmoid', 'batch_size': 400, 'epochs': 100, 'init': 'normal', 'optimizer': 'adamax'}\n",
      "0.492500 (0.024325) with: {'activation': 'sigmoid', 'batch_size': 400, 'epochs': 500, 'init': 'glorot_uniform', 'optimizer': 'rmsprop'}\n",
      "0.382500 (0.042423) with: {'activation': 'sigmoid', 'batch_size': 400, 'epochs': 500, 'init': 'glorot_uniform', 'optimizer': 'adamax'}\n",
      "0.525000 (0.053189) with: {'activation': 'sigmoid', 'batch_size': 400, 'epochs': 500, 'init': 'normal', 'optimizer': 'rmsprop'}\n",
      "0.387500 (0.035642) with: {'activation': 'sigmoid', 'batch_size': 400, 'epochs': 500, 'init': 'normal', 'optimizer': 'adamax'}\n"
     ]
    }
   ],
   "source": [
    "from keras.wrappers.scikit_learn import KerasClassifier\n",
    "from keras.models import Sequential\n",
    "from keras.layers import Activation, Dropout, Flatten, Dense, BatchNormalization, GlobalMaxPooling2D, Conv2D, MaxPooling2D\n",
    "from sklearn.model_selection import GridSearchCV\n",
    "import tensorflow as tf\n",
    "\n",
    "# Function to create model, required for KerasClassifier\n",
    "def create_model(optimizer='rmsprop', init='glorot_uniform', activation='relu'):\n",
    "    # create model\n",
    "    model = Sequential()\n",
    "    model.add(Conv2D(filters=8, kernel_size=(3,3),input_shape=(64,64,3),activation=activation))\n",
    "    model.add(MaxPooling2D(pool_size=(2,2)))\n",
    "    model.add(Conv2D(filters=8, kernel_size=(3,3),activation=activation)) \n",
    "    model.add(MaxPooling2D(pool_size=(2,2)))\n",
    "    model.add(Flatten())\n",
    "    model.add(Dense(3, activation='softmax'))\n",
    "    # Compile model\n",
    "    model.compile(loss='categorical_crossentropy', optimizer=optimizer, metrics=['accuracy'])\n",
    "    return model\n",
    " \n",
    "# fix random seed for reproducibility\n",
    "seed = 7\n",
    "np.random.seed(seed)\n",
    "tf.set_random_seed(seed)\n",
    "\n",
    "# create model\n",
    "model = KerasClassifier(build_fn=create_model, verbose=0)\n",
    "\n",
    "# grid search epochs, batch size and optimizer\n",
    "optimizers = ['rmsprop', 'adamax']\n",
    "init = ['glorot_uniform', 'normal']\n",
    "epochs = [50, 100, 500]\n",
    "batches = [64, 400]\n",
    "activation = ['softmax', 'relu', 'sigmoid']\n",
    "param_grid = dict(optimizer=optimizers, epochs=epochs, batch_size=batches, init=init, activation=activation)\n",
    "grid = GridSearchCV(estimator=model, param_grid=param_grid)\n",
    "grid_result = grid.fit(X_train, y_train)\n",
    "\n",
    "# summarize results\n",
    "print(\"Best: %f using %s\" % (grid_result.best_score_, grid_result.best_params_))\n",
    "means = grid_result.cv_results_['mean_test_score']\n",
    "stds = grid_result.cv_results_['std_test_score']\n",
    "params = grid_result.cv_results_['params']\n",
    "for mean, stdev, param in zip(means, stds, params):\n",
    "    print(\"%f (%f) with: %r\" % (mean, stdev, param))"
   ]
  }
 ],
 "metadata": {
  "kernelspec": {
   "display_name": "Python 3",
   "language": "python",
   "name": "python3"
  },
  "language_info": {
   "codemirror_mode": {
    "name": "ipython",
    "version": 3
   },
   "file_extension": ".py",
   "mimetype": "text/x-python",
   "name": "python",
   "nbconvert_exporter": "python",
   "pygments_lexer": "ipython3",
   "version": "3.7.5"
  }
 },
 "nbformat": 4,
 "nbformat_minor": 2
}
