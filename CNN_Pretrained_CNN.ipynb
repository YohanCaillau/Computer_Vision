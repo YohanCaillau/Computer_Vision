{
 "cells": [
  {
   "cell_type": "markdown",
   "metadata": {},
   "source": [
    "# CNN Model"
   ]
  },
  {
   "cell_type": "code",
   "execution_count": null,
   "metadata": {},
   "outputs": [],
   "source": [
    "import numpy as np\n",
    "X = np.load('../SignLanguage/X.npy')\n",
    "Y = np.load('../SignLanguage/Y.npy')"
   ]
  },
  {
   "cell_type": "code",
   "execution_count": null,
   "metadata": {},
   "outputs": [],
   "source": [
    "def plot_digits_colidx(X, Y):\n",
    "    plt.figure(figsize=(10,10))\n",
    "    plt.plot([5, 2, 11])\n",
    "    for i in col_idx:\n",
    "        ax = plt.subplot(5, 2, i+1)\n",
    "        ax.set_title(\"Column_idx: \" + str(i))\n",
    "        plt.axis('off')\n",
    "        plt.imshow(X[np.argwhere(Y[:,i]==1)[0][0],:], cmap='gray')"
   ]
  },
  {
   "cell_type": "code",
   "execution_count": null,
   "metadata": {},
   "outputs": [],
   "source": [
    "import matplotlib.pyplot as plt\n",
    "N_classes = Y.shape[1]\n",
    "col_idx = [i for i in range(N_classes)]\n",
    "plot_digits_colidx(X, Y)"
   ]
  },
  {
   "cell_type": "code",
   "execution_count": null,
   "metadata": {},
   "outputs": [],
   "source": [
    "#dictionary that handles the column index - digit relatinship\n",
    "colidx_digit = {0: 9,\n",
    "                1: 0,\n",
    "                2: 7,\n",
    "                3: 6,\n",
    "                4: 1,\n",
    "                5: 8,\n",
    "                6: 4,\n",
    "                7: 3,\n",
    "                8: 2,\n",
    "                9: 5}\n",
    "\n",
    "#digit - column index relationship dictionary\n",
    "digit_colidx = {v: k for k, v in colidx_digit.items()}"
   ]
  },
  {
   "cell_type": "code",
   "execution_count": null,
   "metadata": {},
   "outputs": [],
   "source": [
    "#create empty matrix\n",
    "Y_ordered = np.zeros(Y.shape)\n",
    "#fill the matrix so that the columns index also corresponds to the digit\n",
    "for i in range(N_classes):\n",
    "    Y_ordered[:, i] = Y[:, digit_colidx[i]]"
   ]
  },
  {
   "cell_type": "code",
   "execution_count": null,
   "metadata": {},
   "outputs": [],
   "source": [
    "plot_digits_colidx(X, Y_ordered)"
   ]
  },
  {
   "cell_type": "code",
   "execution_count": null,
   "metadata": {},
   "outputs": [],
   "source": [
    "X.shape"
   ]
  },
  {
   "cell_type": "code",
   "execution_count": null,
   "metadata": {},
   "outputs": [],
   "source": [
    "from sklearn.model_selection import train_test_split\n",
    "X_train, X_test, y_train, y_test = train_test_split(X, Y_ordered, test_size=0.3, random_state=42)"
   ]
  },
  {
   "cell_type": "code",
   "execution_count": null,
   "metadata": {},
   "outputs": [],
   "source": [
    "X_train.shape"
   ]
  },
  {
   "cell_type": "code",
   "execution_count": null,
   "metadata": {},
   "outputs": [],
   "source": [
    "import numpy as np\n",
    "# Reshape the images.\n",
    "train_images = np.expand_dims(X_train, axis=3)\n",
    "val_images = np.expand_dims(X_test, axis=3)\n",
    "\n",
    "print(train_images.shape) # (60000, 28, 28, 1)\n",
    "print(val_images.shape)  # (10000, 28, 28, 1)\n",
    "print(y_train.shape)\n",
    "print(y_test.shape)"
   ]
  },
  {
   "cell_type": "code",
   "execution_count": null,
   "metadata": {},
   "outputs": [],
   "source": [
    "import tensorflow as tf\n",
    "from keras.models import Sequential\n",
    "from keras.layers import Activation, Dropout, Flatten, Dense, BatchNormalization, GlobalMaxPooling2D, Conv2D, MaxPooling2D\n",
    "\n",
    "seed = 7\n",
    "np.random.seed(seed)\n",
    "tf.set_random_seed(seed)\n",
    "#tf.random.set_seed(seed)\n",
    "\n",
    "model = Sequential()\n",
    "model.add(Conv2D(filters=8, kernel_size=(3,3),input_shape=(64,64,1),activation='relu'))\n",
    "model.add(MaxPooling2D(pool_size=(2,2)))\n",
    "model.add(Conv2D(filters=8, kernel_size=(3,3),activation='relu')) #82% avec 16\n",
    "model.add(MaxPooling2D(pool_size=(2,2)))\n",
    "#model.add(Dropout(0.5))\n",
    "#model.add(MaxPooling2D(pool_size=(4,4)))\n",
    "#model.add(Dense(128, activation='relu'))\n",
    "model.add(Flatten())\n",
    "model.add(Dense(10, activation='softmax'))"
   ]
  },
  {
   "cell_type": "code",
   "execution_count": null,
   "metadata": {},
   "outputs": [],
   "source": [
    "import keras\n",
    "# Set Optimizer\n",
    "#opt = adam(lr=0.001)\n",
    "model.compile(\n",
    "  loss='categorical_crossentropy',\n",
    "  optimizer=keras.optimizers.Adamax(),\n",
    "  metrics=['accuracy'],\n",
    ")"
   ]
  },
  {
   "cell_type": "code",
   "execution_count": null,
   "metadata": {
    "scrolled": true
   },
   "outputs": [],
   "source": [
    "# ignore Warning\n",
    "import warnings\n",
    "warnings.filterwarnings(\"ignore\")\n",
    "\n",
    "history = model.fit(\n",
    "  train_images,\n",
    "  y_train,\n",
    "  epochs=30,\n",
    "  validation_data=(val_images, y_test),\n",
    "  batch_size=X_train.shape[1]\n",
    ")"
   ]
  },
  {
   "cell_type": "code",
   "execution_count": null,
   "metadata": {},
   "outputs": [],
   "source": [
    "model.summary()"
   ]
  },
  {
   "cell_type": "code",
   "execution_count": null,
   "metadata": {},
   "outputs": [],
   "source": [
    "# Predict.\n",
    "predictions = model.predict(val_images)\n",
    "\n",
    "# Print our model's predictions.\n",
    "print(np.argmax(predictions, axis=1))\n",
    "\n",
    "# Check our predictions against the ground truths.\n",
    "print(np.argmax(y_test, axis=1)) "
   ]
  },
  {
   "cell_type": "code",
   "execution_count": null,
   "metadata": {},
   "outputs": [],
   "source": [
    "import pandas as pd\n",
    "pd.DataFrame(history.history).plot(figsize=(8, 5))\n",
    "plt.grid(True)\n",
    "plt.title('Model performance throughout training')\n",
    "plt.ylabel('Loss')\n",
    "plt.xlabel('epoch')\n",
    "plt.show()"
   ]
  },
  {
   "cell_type": "code",
   "execution_count": null,
   "metadata": {},
   "outputs": [],
   "source": [
    "from sklearn.metrics import confusion_matrix\n",
    "import seaborn as sns\n",
    "from sklearn.metrics import accuracy_score\n",
    "\n",
    "y_train_class = y_test.argmax(axis=1)\n",
    "y_pred_class = predictions.argmax(axis=1)\n",
    "conf_mat = confusion_matrix(y_train_class, y_pred_class)\n",
    "plt.figure(figsize=(15,10))\n",
    "sns.heatmap(conf_mat,square=True, annot=True, fmt='.0f')\n",
    "plt.show()\n",
    "print(\"accuracy :\" + str(accuracy_score(y_train_class, y_pred_class)*100)+\" %\")"
   ]
  },
  {
   "cell_type": "markdown",
   "metadata": {},
   "source": [
    "# Pre-trained CNN"
   ]
  },
  {
   "cell_type": "code",
   "execution_count": null,
   "metadata": {},
   "outputs": [],
   "source": [
    "X_train_vide = np.empty([train_images.shape[0], train_images.shape[1], train_images.shape[2], 3])\n",
    "X_train_vide[..., :] = train_images[..., :]\n",
    "train_images = X_train_vide\n",
    "train_images[10,6,5,:]"
   ]
  },
  {
   "cell_type": "code",
   "execution_count": null,
   "metadata": {},
   "outputs": [],
   "source": [
    "X_val_vide = np.empty([val_images.shape[0], val_images.shape[1], val_images.shape[2], 3])\n",
    "X_val_vide[..., :] = val_images[..., :]\n",
    "val_images = X_val_vide\n",
    "val_images[10,6,5,:]"
   ]
  },
  {
   "cell_type": "code",
   "execution_count": null,
   "metadata": {},
   "outputs": [],
   "source": [
    "from keras.applications.mobilenet import MobileNet\n",
    "model = MobileNet()\n",
    "print(model.summary())"
   ]
  },
  {
   "cell_type": "code",
   "execution_count": null,
   "metadata": {},
   "outputs": [],
   "source": [
    "from keras.applications import MobileNet\n",
    "import keras\n",
    "from keras.optimizers import SGD, Adamax, Adadelta, Adam       \n",
    "from keras.models import Sequential\n",
    "from keras.layers import Dense, Activation, Dropout, Flatten,Conv2D, MaxPooling2D\n",
    "from keras.callbacks import EarlyStopping\n",
    "\n",
    "seed = 7\n",
    "np.random.seed(seed)\n",
    "tf.set_random_seed(seed)\n",
    "#tf.random.set_seed(seed)\n",
    "\n",
    "callbacks = [EarlyStopping(monitor='val_accuracy', patience=10)]\n",
    "\n",
    "pretrained_model = MobileNet(include_top=False, input_shape=(64, 64, 3), weights='imagenet')\n",
    "#for layer in pretrained_model.layers:\n",
    "    #layer.trainable = False\n",
    "\n",
    "model = Sequential()\n",
    "model.add(pretrained_model)\n",
    "model.add(Flatten())\n",
    "model.add(Dense(10, activation='softmax'))"
   ]
  },
  {
   "cell_type": "code",
   "execution_count": null,
   "metadata": {},
   "outputs": [],
   "source": [
    "model.compile(loss='categorical_crossentropy', optimizer='Adamax',    \n",
    "              metrics=['accuracy'])"
   ]
  },
  {
   "cell_type": "code",
   "execution_count": null,
   "metadata": {},
   "outputs": [],
   "source": [
    "# Train\n",
    "history = model.fit(train_images, y_train, batch_size=train_images.shape[0], epochs=20,validation_data=(val_images,y_test),callbacks=callbacks)"
   ]
  },
  {
   "cell_type": "code",
   "execution_count": null,
   "metadata": {},
   "outputs": [],
   "source": [
    "model.summary()"
   ]
  },
  {
   "cell_type": "code",
   "execution_count": null,
   "metadata": {},
   "outputs": [],
   "source": [
    "import pandas as pd\n",
    "pd.DataFrame(history.history).plot(figsize=(8, 5))\n",
    "plt.grid(True)\n",
    "plt.title('Model performance throughout training')\n",
    "plt.ylabel('Loss')\n",
    "plt.xlabel('epoch')\n",
    "plt.show()"
   ]
  },
  {
   "cell_type": "code",
   "execution_count": null,
   "metadata": {},
   "outputs": [],
   "source": [
    "# Predict.\n",
    "predictions = model.predict(val_images)\n",
    "\n",
    "# Print our model's predictions.\n",
    "print(np.argmax(predictions, axis=1))\n",
    "\n",
    "# Check our predictions against the ground truths.\n",
    "print(np.argmax(y_test, axis=1)) "
   ]
  },
  {
   "cell_type": "code",
   "execution_count": null,
   "metadata": {},
   "outputs": [],
   "source": [
    "from sklearn.metrics import confusion_matrix\n",
    "import seaborn as sns\n",
    "from sklearn.metrics import accuracy_score\n",
    "\n",
    "y_train_class = y_test.argmax(axis=1)\n",
    "y_pred_class = predictions.argmax(axis=1)\n",
    "conf_mat = confusion_matrix(y_train_class, y_pred_class)\n",
    "plt.figure(figsize=(15,10))\n",
    "sns.heatmap(conf_mat,square=True, annot=True, fmt='.0f')\n",
    "plt.show()\n",
    "print(\"accuracy :\" + str(accuracy_score(y_train_class, y_pred_class)*100)+\" %\")"
   ]
  }
 ],
 "metadata": {
  "kernelspec": {
   "display_name": "Python 3",
   "language": "python",
   "name": "python3"
  },
  "language_info": {
   "codemirror_mode": {
    "name": "ipython",
    "version": 3
   },
   "file_extension": ".py",
   "mimetype": "text/x-python",
   "name": "python",
   "nbconvert_exporter": "python",
   "pygments_lexer": "ipython3",
   "version": "3.7.3"
  }
 },
 "nbformat": 4,
 "nbformat_minor": 2
}
