{
 "cells": [
  {
   "cell_type": "code",
   "execution_count": 1,
   "metadata": {
    "ExecuteTime": {
     "end_time": "2020-01-14T20:19:00.847170Z",
     "start_time": "2020-01-14T20:19:00.071155Z"
    }
   },
   "outputs": [],
   "source": [
    "import os\n",
    "import numpy as np\n",
    "\n",
    "# defining global variable path\n",
    "image_path = \"./images_training_rev1/new_images/\"\n",
    "\n",
    "#function to load folder into arrays and then it returns that same array'''\n",
    "def loadImages(path):\n",
    "    # Put files into lists and return them as one list of size 4\n",
    "    image_files = sorted([os.path.join(path, file)\n",
    "         for file in os.listdir(path) if file.endswith('.jpg')])\n",
    " \n",
    "    return image_files"
   ]
  },
  {
   "cell_type": "code",
   "execution_count": 2,
   "metadata": {
    "ExecuteTime": {
     "end_time": "2020-01-14T20:19:02.627182Z",
     "start_time": "2020-01-14T20:19:01.572183Z"
    }
   },
   "outputs": [],
   "source": [
    "data_img = loadImages(image_path)"
   ]
  },
  {
   "cell_type": "code",
   "execution_count": 3,
   "metadata": {
    "ExecuteTime": {
     "end_time": "2020-01-14T20:20:05.929320Z",
     "start_time": "2020-01-14T20:19:03.315990Z"
    }
   },
   "outputs": [
    {
     "name": "stdout",
     "output_type": "stream",
     "text": [
      "(64, 64, 3)\n"
     ]
    }
   ],
   "source": [
    "import cv2\n",
    "img = [cv2.imread(i, cv2.IMREAD_UNCHANGED) for i in data_img]\n",
    "print(img[0].shape)"
   ]
  },
  {
   "cell_type": "code",
   "execution_count": 4,
   "metadata": {
    "ExecuteTime": {
     "end_time": "2020-01-14T20:20:40.762368Z",
     "start_time": "2020-01-14T20:20:39.661379Z"
    }
   },
   "outputs": [],
   "source": [
    "img = np.asarray(img)"
   ]
  },
  {
   "cell_type": "code",
   "execution_count": 5,
   "metadata": {
    "ExecuteTime": {
     "end_time": "2020-01-14T20:20:50.379973Z",
     "start_time": "2020-01-14T20:20:44.383812Z"
    }
   },
   "outputs": [],
   "source": [
    "import pandas as pd\n",
    "data = pd.read_csv('class1_df.csv', index_col=0)"
   ]
  },
  {
   "cell_type": "code",
   "execution_count": 6,
   "metadata": {
    "ExecuteTime": {
     "end_time": "2020-01-14T20:20:56.582018Z",
     "start_time": "2020-01-14T20:20:51.778149Z"
    }
   },
   "outputs": [
    {
     "name": "stdout",
     "output_type": "stream",
     "text": [
      "(49262, 64, 64, 3)\n",
      "(49262, 3)\n"
     ]
    }
   ],
   "source": [
    "import numpy as np\n",
    "from sklearn.model_selection import train_test_split\n",
    "\n",
    "X_train, X_val, y_train, y_val = train_test_split(img, data, test_size=.2, random_state=15)\n",
    "print(X_train.shape)\n",
    "print(y_train.shape)"
   ]
  },
  {
   "cell_type": "code",
   "execution_count": 8,
   "metadata": {
    "ExecuteTime": {
     "end_time": "2020-01-14T20:21:16.118114Z",
     "start_time": "2020-01-14T20:21:09.873504Z"
    }
   },
   "outputs": [
    {
     "name": "stderr",
     "output_type": "stream",
     "text": [
      "Using TensorFlow backend.\n"
     ]
    },
    {
     "name": "stdout",
     "output_type": "stream",
     "text": [
      "WARNING:tensorflow:From C:\\Users\\utilisateur\\Anaconda3\\envs\\computer_vision\\lib\\site-packages\\keras\\backend\\tensorflow_backend.py:74: The name tf.get_default_graph is deprecated. Please use tf.compat.v1.get_default_graph instead.\n",
      "\n",
      "WARNING:tensorflow:From C:\\Users\\utilisateur\\Anaconda3\\envs\\computer_vision\\lib\\site-packages\\keras\\backend\\tensorflow_backend.py:517: The name tf.placeholder is deprecated. Please use tf.compat.v1.placeholder instead.\n",
      "\n",
      "WARNING:tensorflow:From C:\\Users\\utilisateur\\Anaconda3\\envs\\computer_vision\\lib\\site-packages\\keras\\backend\\tensorflow_backend.py:4115: The name tf.random_normal is deprecated. Please use tf.random.normal instead.\n",
      "\n",
      "WARNING:tensorflow:From C:\\Users\\utilisateur\\Anaconda3\\envs\\computer_vision\\lib\\site-packages\\keras\\backend\\tensorflow_backend.py:3976: The name tf.nn.max_pool is deprecated. Please use tf.nn.max_pool2d instead.\n",
      "\n"
     ]
    }
   ],
   "source": [
    "# ignore Warning\n",
    "import warnings\n",
    "warnings.filterwarnings(\"ignore\")\n",
    "\n",
    "from keras.models import Sequential\n",
    "from keras.layers import Activation, Dropout, Flatten, Dense, BatchNormalization, GlobalMaxPooling2D, Conv2D, MaxPooling2D\n",
    "import tensorflow as tf\n",
    "\n",
    "callbacks = [EarlyStopping(monitor='val_acc', patience=10)]\n",
    "\n",
    "seed = 7\n",
    "np.random.seed(seed)\n",
    "tf.set_random_seed(seed)\n",
    "#tf.random.set_seed(seed)\n",
    "\n",
    "model = Sequential()\n",
    "model.add(Conv2D(filters=8, kernel_size=(3,3),input_shape=(64,64,3),kernel_initializer='normal', activation='relu'))\n",
    "model.add(MaxPooling2D(pool_size=(2,2)))\n",
    "model.add(Conv2D(filters=8, kernel_size=(3,3),kernel_initializer='normal',activation='relu')) \n",
    "model.add(MaxPooling2D(pool_size=(2,2)))\n",
    "model.add(Flatten())\n",
    "model.add(Dense(3, kernel_initializer='normal', activation='softmax'))"
   ]
  },
  {
   "cell_type": "code",
   "execution_count": 10,
   "metadata": {
    "ExecuteTime": {
     "end_time": "2020-01-14T20:21:36.335552Z",
     "start_time": "2020-01-14T20:21:36.218524Z"
    }
   },
   "outputs": [
    {
     "name": "stdout",
     "output_type": "stream",
     "text": [
      "WARNING:tensorflow:From C:\\Users\\utilisateur\\Anaconda3\\envs\\computer_vision\\lib\\site-packages\\keras\\optimizers.py:790: The name tf.train.Optimizer is deprecated. Please use tf.compat.v1.train.Optimizer instead.\n",
      "\n",
      "WARNING:tensorflow:From C:\\Users\\utilisateur\\Anaconda3\\envs\\computer_vision\\lib\\site-packages\\keras\\backend\\tensorflow_backend.py:3295: The name tf.log is deprecated. Please use tf.math.log instead.\n",
      "\n"
     ]
    }
   ],
   "source": [
    "import keras\n",
    "model.compile(\n",
    "  loss='categorical_crossentropy',\n",
    "  optimizer=keras.optimizers.RMSprop(lr=0.001, rho=0.9),\n",
    "  metrics=['accuracy'],\n",
    ")"
   ]
  },
  {
   "cell_type": "code",
   "execution_count": 11,
   "metadata": {
    "ExecuteTime": {
     "end_time": "2020-01-14T21:05:18.385096Z",
     "start_time": "2020-01-14T20:21:44.137683Z"
    },
    "scrolled": true
   },
   "outputs": [
    {
     "name": "stdout",
     "output_type": "stream",
     "text": [
      "WARNING:tensorflow:From C:\\Users\\utilisateur\\Anaconda3\\envs\\computer_vision\\lib\\site-packages\\tensorflow_core\\python\\ops\\math_grad.py:1424: where (from tensorflow.python.ops.array_ops) is deprecated and will be removed in a future version.\n",
      "Instructions for updating:\n",
      "Use tf.where in 2.0, which has the same broadcast rule as np.where\n",
      "WARNING:tensorflow:From C:\\Users\\utilisateur\\Anaconda3\\envs\\computer_vision\\lib\\site-packages\\keras\\backend\\tensorflow_backend.py:986: The name tf.assign_add is deprecated. Please use tf.compat.v1.assign_add instead.\n",
      "\n",
      "WARNING:tensorflow:From C:\\Users\\utilisateur\\Anaconda3\\envs\\computer_vision\\lib\\site-packages\\keras\\backend\\tensorflow_backend.py:973: The name tf.assign is deprecated. Please use tf.compat.v1.assign instead.\n",
      "\n",
      "WARNING:tensorflow:From C:\\Users\\utilisateur\\Anaconda3\\envs\\computer_vision\\lib\\site-packages\\keras\\backend\\tensorflow_backend.py:2741: The name tf.Session is deprecated. Please use tf.compat.v1.Session instead.\n",
      "\n",
      "Train on 49262 samples, validate on 12316 samples\n",
      "Epoch 1/100\n",
      "WARNING:tensorflow:From C:\\Users\\utilisateur\\Anaconda3\\envs\\computer_vision\\lib\\site-packages\\keras\\backend\\tensorflow_backend.py:174: The name tf.get_default_session is deprecated. Please use tf.compat.v1.get_default_session instead.\n",
      "\n",
      "WARNING:tensorflow:From C:\\Users\\utilisateur\\Anaconda3\\envs\\computer_vision\\lib\\site-packages\\keras\\backend\\tensorflow_backend.py:181: The name tf.ConfigProto is deprecated. Please use tf.compat.v1.ConfigProto instead.\n",
      "\n",
      "WARNING:tensorflow:From C:\\Users\\utilisateur\\Anaconda3\\envs\\computer_vision\\lib\\site-packages\\keras\\backend\\tensorflow_backend.py:190: The name tf.global_variables is deprecated. Please use tf.compat.v1.global_variables instead.\n",
      "\n",
      "WARNING:tensorflow:From C:\\Users\\utilisateur\\Anaconda3\\envs\\computer_vision\\lib\\site-packages\\keras\\backend\\tensorflow_backend.py:199: The name tf.is_variable_initialized is deprecated. Please use tf.compat.v1.is_variable_initialized instead.\n",
      "\n",
      "WARNING:tensorflow:From C:\\Users\\utilisateur\\Anaconda3\\envs\\computer_vision\\lib\\site-packages\\keras\\backend\\tensorflow_backend.py:206: The name tf.variables_initializer is deprecated. Please use tf.compat.v1.variables_initializer instead.\n",
      "\n",
      "49262/49262 [==============================] - 79s 2ms/step - loss: 0.7389 - acc: 0.7495 - val_loss: 0.7006 - val_acc: 0.7861\n",
      "Epoch 2/100\n",
      "49262/49262 [==============================] - 80s 2ms/step - loss: 0.6907 - acc: 0.7925 - val_loss: 0.6856 - val_acc: 0.7938\n",
      "Epoch 3/100\n",
      "49262/49262 [==============================] - 79s 2ms/step - loss: 0.6825 - acc: 0.8044 - val_loss: 0.6739 - val_acc: 0.8121\n",
      "Epoch 4/100\n",
      "49262/49262 [==============================] - 79s 2ms/step - loss: 0.6787 - acc: 0.8074 - val_loss: 0.6773 - val_acc: 0.8113\n",
      "Epoch 5/100\n",
      "49262/49262 [==============================] - 79s 2ms/step - loss: 0.6759 - acc: 0.8134 - val_loss: 0.6798 - val_acc: 0.8054\n",
      "Epoch 6/100\n",
      "49262/49262 [==============================] - 77s 2ms/step - loss: 0.6745 - acc: 0.8131 - val_loss: 0.6704 - val_acc: 0.8197\n",
      "Epoch 7/100\n",
      "49262/49262 [==============================] - 77s 2ms/step - loss: 0.6720 - acc: 0.8158 - val_loss: 0.6771 - val_acc: 0.8073\n",
      "Epoch 8/100\n",
      "49262/49262 [==============================] - 79s 2ms/step - loss: 0.6714 - acc: 0.8165 - val_loss: 0.6715 - val_acc: 0.8099\n",
      "Epoch 9/100\n",
      "49262/49262 [==============================] - 77s 2ms/step - loss: 0.6706 - acc: 0.8178 - val_loss: 0.6784 - val_acc: 0.8085\n",
      "Epoch 10/100\n",
      "49262/49262 [==============================] - 77s 2ms/step - loss: 0.6700 - acc: 0.8184 - val_loss: 0.6781 - val_acc: 0.8057\n",
      "Epoch 11/100\n",
      "49262/49262 [==============================] - 76s 2ms/step - loss: 0.6696 - acc: 0.8193 - val_loss: 0.6717 - val_acc: 0.8120\n",
      "Epoch 12/100\n",
      "49262/49262 [==============================] - 76s 2ms/step - loss: 0.6690 - acc: 0.8214 - val_loss: 0.6682 - val_acc: 0.8210\n",
      "Epoch 13/100\n",
      "49262/49262 [==============================] - 75s 2ms/step - loss: 0.6681 - acc: 0.8190 - val_loss: 0.6651 - val_acc: 0.8229\n",
      "Epoch 14/100\n",
      "49262/49262 [==============================] - 77s 2ms/step - loss: 0.6678 - acc: 0.8201 - val_loss: 0.6976 - val_acc: 0.7726\n",
      "Epoch 15/100\n",
      "49262/49262 [==============================] - 76s 2ms/step - loss: 0.6671 - acc: 0.8235 - val_loss: 0.6689 - val_acc: 0.8214\n",
      "Epoch 16/100\n",
      "49262/49262 [==============================] - 77s 2ms/step - loss: 0.6668 - acc: 0.8221 - val_loss: 0.6738 - val_acc: 0.8061\n",
      "Epoch 17/100\n",
      "49262/49262 [==============================] - 76s 2ms/step - loss: 0.6656 - acc: 0.8224 - val_loss: 0.6793 - val_acc: 0.8021\n",
      "Epoch 18/100\n",
      "49262/49262 [==============================] - 75s 2ms/step - loss: 0.6654 - acc: 0.8227 - val_loss: 0.6730 - val_acc: 0.8085\n",
      "Epoch 19/100\n",
      "49262/49262 [==============================] - 76s 2ms/step - loss: 0.6650 - acc: 0.8227 - val_loss: 0.6691 - val_acc: 0.8129\n",
      "Epoch 20/100\n",
      "49262/49262 [==============================] - 76s 2ms/step - loss: 0.6647 - acc: 0.8255 - val_loss: 0.6819 - val_acc: 0.8003\n",
      "Epoch 21/100\n",
      "49262/49262 [==============================] - 75s 2ms/step - loss: 0.6646 - acc: 0.8255 - val_loss: 0.6678 - val_acc: 0.8222\n",
      "Epoch 22/100\n",
      "49262/49262 [==============================] - 75s 2ms/step - loss: 0.6640 - acc: 0.8244 - val_loss: 0.6637 - val_acc: 0.8245\n",
      "Epoch 23/100\n",
      "49262/49262 [==============================] - 76s 2ms/step - loss: 0.6636 - acc: 0.8265 - val_loss: 0.6686 - val_acc: 0.8098\n",
      "Epoch 24/100\n",
      "49262/49262 [==============================] - 77s 2ms/step - loss: 0.6639 - acc: 0.8253 - val_loss: 0.6623 - val_acc: 0.8260\n",
      "Epoch 25/100\n",
      "49262/49262 [==============================] - 76s 2ms/step - loss: 0.6639 - acc: 0.8251 - val_loss: 0.6625 - val_acc: 0.8202\n",
      "Epoch 26/100\n",
      "49262/49262 [==============================] - 76s 2ms/step - loss: 0.6631 - acc: 0.8254 - val_loss: 0.6674 - val_acc: 0.8230\n",
      "Epoch 27/100\n",
      "49262/49262 [==============================] - 76s 2ms/step - loss: 0.6635 - acc: 0.8253 - val_loss: 0.6769 - val_acc: 0.8104\n",
      "Epoch 28/100\n",
      "49262/49262 [==============================] - 78s 2ms/step - loss: 0.6634 - acc: 0.8255 - val_loss: 0.6757 - val_acc: 0.8112\n",
      "Epoch 29/100\n",
      "49262/49262 [==============================] - 79s 2ms/step - loss: 0.6632 - acc: 0.8246 - val_loss: 0.6734 - val_acc: 0.8037\n",
      "Epoch 30/100\n",
      "49262/49262 [==============================] - 79s 2ms/step - loss: 0.6630 - acc: 0.8262 - val_loss: 0.6660 - val_acc: 0.8242\n",
      "Epoch 31/100\n",
      "49262/49262 [==============================] - 76s 2ms/step - loss: 0.6624 - acc: 0.8272 - val_loss: 0.6679 - val_acc: 0.8187\n",
      "Epoch 32/100\n",
      "49262/49262 [==============================] - 76s 2ms/step - loss: 0.6627 - acc: 0.8260 - val_loss: 0.6677 - val_acc: 0.8175\n",
      "Epoch 33/100\n",
      "49262/49262 [==============================] - 76s 2ms/step - loss: 0.6625 - acc: 0.8254 - val_loss: 0.6625 - val_acc: 0.8245\n",
      "Epoch 34/100\n",
      "49262/49262 [==============================] - 76s 2ms/step - loss: 0.6624 - acc: 0.8278 - val_loss: 0.6751 - val_acc: 0.8089\n"
     ]
    }
   ],
   "source": [
    "# ignore Warning\n",
    "import warnings\n",
    "warnings.filterwarnings(\"ignore\")\n",
    "\n",
    "history = model.fit(\n",
    "  X_train,\n",
    "  y_train,\n",
    "  epochs=100,\n",
    "  validation_data=(X_val, y_val),\n",
    "  batch_size=X_train.shape[1], \n",
    "  callbacks=callbacks\n",
    ")"
   ]
  },
  {
   "cell_type": "code",
   "execution_count": 12,
   "metadata": {
    "ExecuteTime": {
     "end_time": "2020-01-14T21:17:30.687937Z",
     "start_time": "2020-01-14T21:17:30.661930Z"
    }
   },
   "outputs": [
    {
     "data": {
      "text/plain": [
       "'1.15.0'"
      ]
     },
     "execution_count": 12,
     "metadata": {},
     "output_type": "execute_result"
    }
   ],
   "source": [
    "import tensorflow as tf\n",
    "tf.__version__"
   ]
  },
  {
   "cell_type": "code",
   "execution_count": 13,
   "metadata": {
    "ExecuteTime": {
     "end_time": "2020-01-14T21:17:38.118789Z",
     "start_time": "2020-01-14T21:17:38.102773Z"
    }
   },
   "outputs": [
    {
     "name": "stdout",
     "output_type": "stream",
     "text": [
      "_________________________________________________________________\n",
      "Layer (type)                 Output Shape              Param #   \n",
      "=================================================================\n",
      "conv2d_1 (Conv2D)            (None, 62, 62, 8)         224       \n",
      "_________________________________________________________________\n",
      "max_pooling2d_1 (MaxPooling2 (None, 31, 31, 8)         0         \n",
      "_________________________________________________________________\n",
      "conv2d_2 (Conv2D)            (None, 29, 29, 8)         584       \n",
      "_________________________________________________________________\n",
      "max_pooling2d_2 (MaxPooling2 (None, 14, 14, 8)         0         \n",
      "_________________________________________________________________\n",
      "flatten_1 (Flatten)          (None, 1568)              0         \n",
      "_________________________________________________________________\n",
      "dense_1 (Dense)              (None, 3)                 4707      \n",
      "=================================================================\n",
      "Total params: 5,515\n",
      "Trainable params: 5,515\n",
      "Non-trainable params: 0\n",
      "_________________________________________________________________\n"
     ]
    }
   ],
   "source": [
    "model.summary()"
   ]
  },
  {
   "cell_type": "code",
   "execution_count": 14,
   "metadata": {
    "ExecuteTime": {
     "end_time": "2020-01-14T21:17:52.736001Z",
     "start_time": "2020-01-14T21:17:43.134394Z"
    }
   },
   "outputs": [
    {
     "name": "stdout",
     "output_type": "stream",
     "text": [
      "predictions: [[0.17886199 0.8167672  0.00437087]]\n",
      "          Class1.1  Class1.2  Class1.3\n",
      "GalaxyID                              \n",
      "853598    0.113049  0.886951       0.0\n"
     ]
    }
   ],
   "source": [
    "# Predict.\n",
    "predictions = model.predict(X_val)\n",
    "# Print our model's predictions.\n",
    "print(\"predictions: \" + str(predictions[:1]))\n",
    "\n",
    "# Check our predictions against the ground truths.\n",
    "print(y_val[:1]) "
   ]
  },
  {
   "cell_type": "code",
   "execution_count": 15,
   "metadata": {
    "ExecuteTime": {
     "end_time": "2020-01-14T21:18:50.171878Z",
     "start_time": "2020-01-14T21:18:40.753375Z"
    }
   },
   "outputs": [
    {
     "name": "stdout",
     "output_type": "stream",
     "text": [
      "Val loss: 0.6751280101563645\n",
      "Val accuracy: 0.8089477102374751\n"
     ]
    }
   ],
   "source": [
    "score = model.evaluate(X_val, y_val, verbose=0)\n",
    "print('Val loss:', score[0])\n",
    "print('Val accuracy:', score[1])"
   ]
  },
  {
   "cell_type": "code",
   "execution_count": 17,
   "metadata": {
    "ExecuteTime": {
     "end_time": "2020-01-14T21:19:32.861099Z",
     "start_time": "2020-01-14T21:19:32.397110Z"
    }
   },
   "outputs": [
    {
     "data": {
      "image/png": "[encoded data removed]",
      "text/plain": [
       "<Figure size 576x360 with 1 Axes>"
      ]
     },
     "metadata": {
      "needs_background": "light"
     },
     "output_type": "display_data"
    }
   ],
   "source": [
    "import matplotlib.pyplot as plt\n",
    "pd.DataFrame(history.history).plot(figsize=(8, 5))\n",
    "plt.grid(True)\n",
    "plt.title('Model performance throughout training')\n",
    "plt.ylabel('Loss')\n",
    "plt.xlabel('epoch')\n",
    "plt.show()"
   ]
  },
  {
   "cell_type": "markdown",
   "metadata": {},
   "source": [
    "## Score"
   ]
  },
  {
   "cell_type": "markdown",
   "metadata": {},
   "source": [
    "Avec ce modèle:  \n",
    "model = Sequential()\n",
    "model.add(Conv2D(filters=8, kernel_size=(3,3),input_shape=(64,64,3),kernel_initializer='normal', activation='relu'))\n",
    "model.add(MaxPooling2D(pool_size=(2,2)))\n",
    "model.add(Conv2D(filters=8, kernel_size=(3,3),kernel_initializer='normal',activation='relu')) \n",
    "model.add(MaxPooling2D(pool_size=(2,2)))\n",
    "model.add(Flatten())\n",
    "model.add(Dense(3, kernel_initializer='normal', activation='softmax'))\n",
    "\n",
    "model.compile(\n",
    "  loss='categorical_crossentropy',\n",
    "  optimizer=keras.optimizers.RMSprop(lr=0.001, rho=0.9),\n",
    "  metrics=['accuracy'],\n",
    ")\n",
    "\n",
    "history = model.fit(\n",
    "  X_train,\n",
    "  y_train,\n",
    "  epochs=100,\n",
    "  validation_data=(X_val, y_val),\n",
    "  batch_size=X_train.shape[1], \n",
    ")"
   ]
  },
  {
   "cell_type": "markdown",
   "metadata": {},
   "source": [
    "Accuracy = 80,8 %  \n",
    "Prediction/correct value: predictions: predictions: [[0.17886199 0.8167672  0.00437087]]/correct_value[[0.113049  0.886951       0.0]]"
   ]
  }
 ],
 "metadata": {
  "kernelspec": {
   "display_name": "Python 3",
   "language": "python",
   "name": "python3"
  },
  "language_info": {
   "codemirror_mode": {
    "name": "ipython",
    "version": 3
   },
   "file_extension": ".py",
   "mimetype": "text/x-python",
   "name": "python",
   "nbconvert_exporter": "python",
   "pygments_lexer": "ipython3",
   "version": "3.7.5"
  }
 },
 "nbformat": 4,
 "nbformat_minor": 2
}
